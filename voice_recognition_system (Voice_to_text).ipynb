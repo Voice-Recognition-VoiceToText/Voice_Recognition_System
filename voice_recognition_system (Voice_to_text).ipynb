{
  "cells": [
    {
      "cell_type": "markdown",
      "metadata": {
        "id": "jYysdyb-CaWM"
      },
      "source": [
        "# Voice recognition: Recognizing keywords"
      ]
    },
    {
      "cell_type": "code",
      "execution_count": null,
      "metadata": {
        "id": "hhNW45sjDEDe"
      },
      "outputs": [],
      "source": [
        "!pip install -U -q tensorflow tensorflow_datasets"
      ]
    },
    {
      "cell_type": "code",
      "execution_count": null,
      "metadata": {
        "id": "dzLKpmZICaWN"
      },
      "outputs": [],
      "source": [
        "import os\n",
        "import pathlib\n",
        "\n",
        "import matplotlib.pyplot as plt\n",
        "import numpy as np\n",
        "import seaborn as sns\n",
        "import tensorflow as tf\n",
        "\n",
        "from tensorflow.keras import layers\n",
        "from tensorflow.keras import models\n",
        "from IPython import display\n",
        "\n",
        "# Set the seed value for experiment reproducibility.\n",
        "seed = 42\n",
        "tf.random.set_seed(seed)\n",
        "np.random.seed(seed)"
      ]
    },
    {
      "cell_type": "markdown",
      "metadata": {
        "id": "yR0EdgrLCaWR"
      },
      "source": [
        "## Import the mini Speech Commands dataset\n",
        "\n"
      ]
    },
    {
      "cell_type": "code",
      "execution_count": null,
      "metadata": {
        "id": "2-rayb7-3Y0I"
      },
      "outputs": [],
      "source": [
        "DATASET_PATH = 'data/mini_speech_commands'\n",
        "\n",
        "data_dir = pathlib.Path(DATASET_PATH)\n",
        "if not data_dir.exists():\n",
        "  tf.keras.utils.get_file(\n",
        "      'mini_speech_commands.zip',\n",
        "      origin=\"http://storage.googleapis.com/download.tensorflow.org/data/mini_speech_commands.zip\",\n",
        "      extract=True,\n",
        "      cache_dir='.', cache_subdir='data')"
      ]
    },
    {
      "cell_type": "markdown",
      "metadata": {
        "id": "BgvFq3uYiS5G"
      },
      "source": [
        "The dataset's audio clips are stored in eight folders corresponding to each speech command: `no`, `yes`, `down`, `go`, `left`, `up`, `right`, and `stop`:"
      ]
    },
    {
      "cell_type": "code",
      "execution_count": null,
      "metadata": {
        "id": "70IBxSKxA1N9",
        "colab": {
          "base_uri": "https://localhost:8080/"
        },
        "outputId": "4dda6d2d-11aa-460d-df5b-ad34e2030197"
      },
      "outputs": [
        {
          "output_type": "stream",
          "name": "stdout",
          "text": [
            "Commands: ['down' 'left' 'yes' 'right' 'no' 'up' 'stop' 'go']\n"
          ]
        }
      ],
      "source": [
        "commands = np.array(tf.io.gfile.listdir(str(data_dir)))\n",
        "commands = commands[(commands != 'README.md') & (commands != '.DS_Store')]\n",
        "print('Commands:', commands)"
      ]
    },
    {
      "cell_type": "markdown",
      "metadata": {
        "id": "TZ7GJjDvHqtt"
      },
      "source": [
        "Divided into directories this way, you can easily load the data using `keras.utils.audio_dataset_from_directory`.\n",
        "\n",
        "The audio clips are 1 second or less at 16kHz. The `output_sequence_length=16000` pads the short ones to exactly 1 second (and would trim longer ones) so that they can be easily batched."
      ]
    },
    {
      "cell_type": "code",
      "execution_count": null,
      "metadata": {
        "id": "mFM4c3aMC8Qv",
        "colab": {
          "base_uri": "https://localhost:8080/"
        },
        "outputId": "6ad86296-cc5c-4733-96b2-cbcb48e8ade0"
      },
      "outputs": [
        {
          "output_type": "stream",
          "name": "stdout",
          "text": [
            "Found 8000 files belonging to 8 classes.\n",
            "Using 6400 files for training.\n",
            "Using 1600 files for validation.\n",
            "\n",
            "label names: ['down' 'go' 'left' 'no' 'right' 'stop' 'up' 'yes']\n"
          ]
        }
      ],
      "source": [
        "train_ds, val_ds = tf.keras.utils.audio_dataset_from_directory(\n",
        "    directory=data_dir,\n",
        "    batch_size=64,\n",
        "    validation_split=0.2,\n",
        "    seed=0,\n",
        "    output_sequence_length=16000,\n",
        "    subset='both')\n",
        "\n",
        "label_names = np.array(train_ds.class_names)\n",
        "print()\n",
        "print(\"label names:\", label_names)"
      ]
    },
    {
      "cell_type": "markdown",
      "metadata": {
        "id": "cestp83qFnU5"
      },
      "source": [
        "The dataset now contains batches of audio clips and integer labels. The audio clips have a shape of `(batch, samples, channels)`."
      ]
    },
    {
      "cell_type": "code",
      "execution_count": null,
      "metadata": {
        "id": "3yU6SQGIFb3H",
        "colab": {
          "base_uri": "https://localhost:8080/"
        },
        "outputId": "38e6d3e0-42cb-494b-eb88-c18c980b9ce7"
      },
      "outputs": [
        {
          "output_type": "execute_result",
          "data": {
            "text/plain": [
              "(TensorSpec(shape=(None, 16000, None), dtype=tf.float32, name=None),\n",
              " TensorSpec(shape=(None,), dtype=tf.int32, name=None))"
            ]
          },
          "metadata": {},
          "execution_count": 59
        }
      ],
      "source": [
        "train_ds.element_spec"
      ]
    },
    {
      "cell_type": "markdown",
      "metadata": {
        "id": "ppG9Dgq2Ex8R"
      },
      "source": [
        "This dataset only contains single channel audio, so use the `tf.squeeze` function to drop the extra axis:"
      ]
    },
    {
      "cell_type": "code",
      "execution_count": null,
      "metadata": {
        "id": "Xl-tnniUIBlM"
      },
      "outputs": [],
      "source": [
        "def squeeze(audio, labels):\n",
        "  audio = tf.squeeze(audio, axis=-1)\n",
        "  return audio, labels\n",
        "\n",
        "train_ds = train_ds.map(squeeze, tf.data.AUTOTUNE)\n",
        "val_ds = val_ds.map(squeeze, tf.data.AUTOTUNE)"
      ]
    },
    {
      "cell_type": "code",
      "execution_count": null,
      "metadata": {
        "id": "u5UEGsqM5Gss"
      },
      "outputs": [],
      "source": [
        "test_ds = val_ds.shard(num_shards=2, index=0)\n",
        "val_ds = val_ds.shard(num_shards=2, index=1)"
      ]
    },
    {
      "cell_type": "code",
      "execution_count": null,
      "metadata": {
        "id": "xIeoJcwJH5h9",
        "colab": {
          "base_uri": "https://localhost:8080/"
        },
        "outputId": "fc430204-1256-4e8e-b4cd-140799b563b4"
      },
      "outputs": [
        {
          "output_type": "stream",
          "name": "stdout",
          "text": [
            "(64, 16000)\n",
            "(64,)\n"
          ]
        }
      ],
      "source": [
        "for example_audio, example_labels in train_ds.take(1):\n",
        "  print(example_audio.shape)\n",
        "  print(example_labels.shape)"
      ]
    },
    {
      "cell_type": "markdown",
      "metadata": {
        "id": "voxGEwvuh2L7"
      },
      "source": [
        "Let's plot a few audio waveforms:"
      ]
    },
    {
      "cell_type": "code",
      "execution_count": null,
      "metadata": {
        "id": "dYtGq2zYNHuT",
        "colab": {
          "base_uri": "https://localhost:8080/"
        },
        "outputId": "b500a3bd-36bd-4581-eda2-af79c3d49915"
      },
      "outputs": [
        {
          "output_type": "execute_result",
          "data": {
            "text/plain": [
              "array(['go', 'go', 'no', 'down'], dtype='<U5')"
            ]
          },
          "metadata": {},
          "execution_count": 63
        }
      ],
      "source": [
        "label_names[[1,1,3,0]]"
      ]
    },
    {
      "cell_type": "code",
      "execution_count": null,
      "metadata": {
        "id": "8yuX6Nqzf6wT"
      },
      "outputs": [],
      "source": [
        "plt.figure(figsize=(16, 10))\n",
        "rows = 3\n",
        "cols = 3\n",
        "n = rows * cols\n",
        "for i in range(n):\n",
        "  plt.subplot(rows, cols, i+1)\n",
        "  audio_signal = example_audio[i]\n",
        "  plt.plot(audio_signal)\n",
        "  plt.title(label_names[example_labels[i]])\n",
        "  plt.yticks(np.arange(-1.2, 1.2, 0.2))\n",
        "  plt.ylim([-1.1, 1.1])"
      ]
    },
    {
      "cell_type": "markdown",
      "metadata": {
        "id": "EWXPphxm0B4m"
      },
      "source": [
        "## Convert waveforms to spectrograms\n",
        "\n"
      ]
    },
    {
      "cell_type": "code",
      "execution_count": null,
      "metadata": {
        "id": "_4CK75DHz_OR"
      },
      "outputs": [],
      "source": [
        "def get_spectrogram(waveform):\n",
        "  # Convert the waveform to a spectrogram via a STFT.\n",
        "  spectrogram = tf.signal.stft(\n",
        "      waveform, frame_length=255, frame_step=128)\n",
        "  # Obtain the magnitude of the STFT.\n",
        "  spectrogram = tf.abs(spectrogram)\n",
        "  # Add a `channels` dimension, so that the spectrogram can be used\n",
        "  # as image-like input data with convolution layers (which expect\n",
        "  # shape (`batch_size`, `height`, `width`, `channels`).\n",
        "  spectrogram = spectrogram[..., tf.newaxis]\n",
        "  return spectrogram"
      ]
    },
    {
      "cell_type": "markdown",
      "metadata": {
        "id": "5rdPiPYJphs2"
      },
      "source": [
        "Next, start exploring the data. Print the shapes of one example's tensorized waveform and the corresponding spectrogram, and play the original audio:"
      ]
    },
    {
      "cell_type": "code",
      "execution_count": null,
      "metadata": {
        "id": "4Mu6Y7Yz3C-V",
        "colab": {
          "base_uri": "https://localhost:8080/",
          "height": 416
        },
        "outputId": "6f62f111-b6b1-4e89-9c0d-93c17de2c7d1"
      },
      "outputs": [
        {
          "output_type": "stream",
          "name": "stdout",
          "text": [
            "Label: go\n",
            "Waveform shape: (16000,)\n",
            "Spectrogram shape: (124, 129, 1)\n",
            "Audio playback\n"
          ]
        },
        {
          "output_type": "display_data",
          "data": {
            "text/plain": [
              "<IPython.lib.display.Audio object>"
            ],
            "text/html": [
              "\n",
              "                <audio  controls=\"controls\" >\n",
              "                    <source src=\"data:audio/wav;base64,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\" type=\"audio/wav\" />\n",
              "                    Your browser does not support the audio element.\n",
              "                </audio>\n",
              "              "
            ]
          },
          "metadata": {}
        },
        {
          "output_type": "stream",
          "name": "stdout",
          "text": [
            "Label: no\n",
            "Waveform shape: (16000,)\n",
            "Spectrogram shape: (124, 129, 1)\n",
            "Audio playback\n"
          ]
        },
        {
          "output_type": "display_data",
          "data": {
            "text/plain": [
              "<IPython.lib.display.Audio object>"
            ],
            "text/html": [
              "\n",
              "                <audio  controls=\"controls\" >\n",
              "                    <source src=\"data:audio/wav;base64,UklGRiR9AABXQVZFZm10IBAAAAABAAEAgD4AAAB9AAACABAAZGF0YQB9AAAAAAIAAwADAAUABAABAAEAAQAAAAEAAQAAAAAAAQABAAEAAQACAAIABAADAAEAAQD//wEABAAFAAUAAgABAAAAAAD//wAA///+//3//v////z//f/9//3////9//3//f/5//z/+//6//7/AAD/////AAAAAAAA/////wIAAQD//wAAAAD///7///8AAAIAAwACAAIAAwAFAAMAAAABAAUABQACAAEAAAACAAEAAgADAAAAAAAAAAAAAAAAAAIAAwADAAQAAgAEAAIA//8AAAAA/////wAA/v/+//7//v/+/wAAAQAEAAQAAQABAAEAAAAAAAAA/v/8//3///8AAP///f/+//3/+//7//r///////3//v/+/wAA/f///wAAAAAEAAMABQAFAAIABgAFAAUABAADAAIAAAAAAAAA/////wAAAAABAAAAAAACAAIAAgACAAIAAAAAAAEAAQABAAAAAAAAAAAAAQAAAP//AAD//wAAAAAAAAAAAAAAAAAAAAAAAAAAAAD//wEAAAD9//3/+//7//v/+f/5//n/+v/7//v/+//8//r//P/7//n/+//7//z//v/8//v/+//9//////8BAAIAAQAEAAUABAAFAAMAAwAEAAEAAgACAAEAAAD/////AAAAAAAAAAAAAAIAAAACAAIAAAD+//3////+/wAAAAAAAAAAAAABAAAAAQADAAEAAAAAAAAAAAAAAAEAAQAAAAEABAABAAIAAgD//wIAAwACAAEAAgACAAIAAgACAAEAAAADAAIAAgACAAIAAQAAAP//AAAAAAAAAAAAAP//AAABAAEAAQACAAIAAAAAAAEAAAABAP///v8AAP//AAD/////AAAAAAEA///9//v/+v/4//v//f////7///8AAAAAAAAAAAEAAQAAAAAAAAAAAAIAAgABAAAA//8AAAAAAQADAAEAAAAAAAAAAQAAAAAAAAAAAAAAAQACAAIAAgACAAMAAQAAAAIAAQABAAAA//8AAAAA///+////AAAAAP7//P/9/////v///wEA///9////////////AAAAAAEAAAABAAAAAQACAAEAAwAEAAQABAADAAQABQAGAAUAAgAAAAEAAgAAAAEAAgD/////AAAAAAIAAQAAAAEA/v/8//7/AAD////////9//3///////7///8AAAAA///+//////8AAAAAAAAAAP///v///////////////P/5//v/+//7//v//P/6//v/+v/5//z//v/9//7//////wAAAAAAAAAAAAACAAEAAQAEAAMAAwAEAAIAAwADAAAAAAABAAIAAwABAAAAAAAAAAAAAAAAAAIAAAAAAAAAAgACAAEAAQABAAEAAQABAAAAAAAAAAAAAAAAAAAAAwAHAAMAAAAAAAEAAgABAAAAAwABAAAABAACAAIAAQAEAAYABQAGAAEAAQABAAAA/////wAA//8AAAAA///9//7/AAAAAAAAAAAAAAEAAQAAAAAAAAAAAP//AAD+//3//f/8//3//f///wAAAAD9//r//f/+//3//P/8//3//v/8//7/AAABAP////8AAAEAAgABAAIAAAABAAMAAQAGAAQAAAABAAAAAgACAP//AAAAAP7//v/+//7//f/9//z//f8AAAAA/v8AAAAAAAAAAAAAAAABAAIAAAAAAAAAAAABAAIAAQABAAIABAACAAAAAQAAAAEAAQABAAIAAQAAAAAAAwABAAAAAAABAAAA//8BAAIA//8CAAIAAAAAAAIABAACAAEAAgAAAAAAAAACAAIA/////////v///wEAAAAAAAAA/v/+/wAAAQABAP////8AAP////8AAP/////9//3//v/8////AAAAAAAAAAD//////v8AAAAAAAABAAAAAQABAAAA//8AAAEAAAAAAAAAAAAAAAAAAAACAAQABAACAAIAAwAEAAMAAAD//wAAAAACAAMAAAD//wAAAQABAAAAAAAAAAAAAAAAAAAA///8//3//v/9//z/+f/6//v//f8BAP3//P/9//r//P/8//3//v///wAAAAD+//3/AAAAAP//AAD///7/////////AAD/////AAAAAAAAAgABAAEAAAD+//3///8BAP///v/+/wAAAQACAAQABAADAAEAAwACAP//AAAAAP//AAACAAEAAAAAAAAAAAD///3//v8AAAEAAgACAAEAAAAAAAEAAAAAAAAAAAADAAEAAgAEAAMAAwABAAQABAACAAEAAQAAAAAAAgADAAMAAQD//wAAAAAAAAEAAgAAAAAAAQACAAIAAQAAAAAAAQD///7/AAD+//3///8AAP////8AAAAA///+////AAD/////AAAAAAAAAAAAAP////8CAAIAAAAAAAAAAAABAAEA//8BAAQAAwACAAAAAQACAP//AQAFAAMAAgAEAAQAAQD//wAAAAAAAAAAAAACAAUAAQABAAEAAAACAAAAAwACAP//AAD+//7/AQAAAAAA///+/wAAAQABAP////8BAP//AAD+//v//P/9////AAAAAP3//f/+//v//P/9//7////9//3//v///wAAAAAAAAAAAAABAAEA/////wAAAQABAP///v/8//3//f/9/wAA///+//7/AAAAAAEAAAD+/////v//////////////AAD+//7/AAD///////8BAAAAAAAAAAAA///9//7/AAD/////AAD9//v//P8AAAAAAQACAAEAAgACAAMAAgADAAUAAwABAAAAAQACAAEAAAABAAEAAQAAAAAAAAABAAAAAAAAAAAAAAD//wAAAQAAAAAAAAAFAAUAAwAEAAUAAwAAAAAAAgADAAMAAQACAAMAAQD///z//v////z//v/+//z//v8AAAAAAAAAAP///v///wAA//8AAAAAAAACAAIAAgABAAAAAgABAP//AAAAAAAAAAAAAAIAAgAAAP//AAACAAEAAAD//wAA//8AAP////8AAAAAAAAAAAAA//8AAAAAAAAAAAAAAQABAAAAAAAAAAAAAAABAAIA/////wAAAAAAAP//AAAAAAAAAAD+/wAAAQAAAAAAAQABAAIAAwAAAAEAAwABAAAAAAAAAAAAAAD//wIAAwACAAEAAAAAAP//AAAAAP//AAD///7/AAAAAAAAAAAAAAEA///+/wAA/v/7//3///8AAP///f///wEAAAAAAAAAAAABAAEAAAAAAAIABQAHAAQABAAEAAMAAQAFAAgABgADAP//AAAAAP//AAABAAAAAAAAAAAAAAAAAAAAAAD+////AAAAAAAA/P/9/wAA///+//v/+v/6//j/9//4//v//P/8//3/+//8//v//P/+///////9//3////+//3/AAAAAAAABAAFAAUAAgAAAAAAAAD///v/+////wAAAAAAAAAA///8//3/AAAAAAEAAAD//wAAAAABAAAAAQABAAAAAQABAAAAAAAAAAAAAAABAP////8BAAAAAAABAAQABQACAAMABAACAAMAAwAEAAMAAgACAAEABAADAAMAAgAAAAAAAAABAAAAAQABAAAAAAD///7//v8BAAAAAAD///7////+////AAD//wAAAAAAAP///f//////AAD/////AQD//wAAAwABAAIAAQAEAAIAAAAGAAUAAgABAAEAAAAAAAAAAAAAAAAAAAABAP7//f8AAP////////3/////////AAD//wAA/v/+/////P/8//7//f////7//v/9//3//f/9//3//f8AAAAAAAAAAAAAAAAAAAAAAQABAP//AQAHAAUABQADAAAAAQABAAMAAgAEAAYABAAFAAMAAQACAAMABAAEAAQABwAHAAUAAwACAAQAAwADAAUAAQAAAAAAAAAAAAAA///9////AAAAAAAAAgAEAAIAAAD//////v/+//z/+//+//3//f/+//3//v/9/////f/+/wAA//8BAAAAAAAAAAAAAQAAAAAA/v8AAAEAAAABAAAAAAAAAAAAAAAAAAAAAAABAAAAAAD///3///8AAP7//f//////AAD////////+//3//P/8//3///8AAAAA/v/9//v//P///wAAAQAAAP///v/+////AAAAAAAAAAABAAEAAQAAAAAAAAABAAIAAAABAAMAAgAEAAIAAgADAAIAAgAAAAMAAgAAAAAAAAAAAAAAAQABAAEAAQAAAAAAAQABAAAAAgADAAAAAQADAAEAAAAAAAAAAAABAAEAAAABAAEAAAAAAAAAAAAAAAAAAAABAP3///8BAP//AAD+//7//v///wAA///9//z//P/6//z//f/9/wAAAAAAAAEAAAAAAAAAAgACAAAA//8AAAMAAwABAAEAAgAAAAEAAAABAAMAAgABAAEAAAAAAAAAAAAAAP//AAAAAAAAAQD///3////+////AAABAP7//f8AAP///v/+/wAAAAACAAMAAgABAAAAAgAEAAUAAwABAAIAAQABAAIAAgABAAMABAABAAAAAAACAAIAAAAAAAAAAAAAAAAAAAAAAAAAAQABAAEAAQABAAMAAgD/////AAD///z//P/+//7/+v/8//3//P/9//z//v/+//3//v///wAA/f/8/////P/9//////8AAP7///8AAAIAAQACAAQAAwACAAIABAAFAAcAAwAEAAYAAgAEAAUAAwAEAAIAAQAEAAUABQAEAAIAAAAAAAAA///+////AAD+/wAAAAD9//3//v///////v/+////AAAAAP///P/7//n/+/////3/+//8//3//f/7//v//P/9/////P/9//////8AAAAAAQAEAAMAAAACAAEA//8AAAAA/v/+/////f/8//7/+f/6//7/+v/9/wAA+//8////AAD//wAAAgACAAMAAgABAAEAAAAAAAAAAAD//wAAAAAAAAAAAAACAAMAAQACAAIAAwAFAAQAAwAHAAYABAADAAQABwADAAMAAwACAAEAAAABAAUABAACAAMAAgAEAAYAAwACAAIAAQABAAIAAQACAAUABQADAAAAAQABAP//AAD+//z/+////wEA//8AAP7//P//////AQAAAP3//v/8//z//f/6//z//f/9/////f/9/////v/+////AAAAAP////8AAAEAAAAAAAEAAAACAAIAAQACAAEAAAAAAAAAAAACAAEAAAAAAAAAAAAAAAAAAAABAAAAAQABAAAAAQAAAAAAAQD/////AAAAAAEAAQAAAAEAAgAAAAEABQADAAAAAAACAAEAAAACAAIAAAAAAAAAAwABAAAAAQAAAAAAAAAAAP////8BAAIABQACAAQABQADAAEAAAACAAQAAgAAAAEAAAD//wAAAAAAAAMAAQAAAAAAAAD+//7/AAAAAAAA/v/9//z//P/9//r///////r/+v/4//z////8//v//P/9//z/+////////v///////f/7//v/+v/6//z//v/+//v/+f/6//z/AAABAAAAAgACAAIAAAAAAAAAAAD//wAAAAD+//////8AAAEAAAABAAMAAQAAAP///P/9//7/AAACAAIAAgABAAAAAAABAAIAAgAAAAIAAwACAAEAAQABAAIABAADAAEAAQAEAAQAAAACAAMABQACAP/////9/////////wAA/v8AAP////8AAP//AAAAAAAA//8BAAAA/P/9/wAAAAACAAMABAADAAMAAgACAAMAAgACAAEAAQAAAAIAAQAAAAMAAQAAAAIAAwADAAEAAAD/////AAAAAAAAAAD/////AAAAAP//AAAAAP3//v8AAP////8BAAEAAQABAP////8AAP////8AAAAA/f/+/////f///////v///wAA/////wAAAAD9//3///8AAP//AAAAAAIAAgD/////AgACAP///v///wEAAgACAAMABQAEAAEAAgAFAAUAAwAEAAUABQAEAAIAAwAEAAMABQADAAIAAwAAAAAAAAD+//7/AAD+//r//f////7//v/+////AAD+/wAAAQAAAAAAAAAAAAAA/v8AAAAA//8AAAAAAQABAAAAAgABAAAAAAAAAAAA//8AAP3//f8AAP3//v/+//7/AAAAAP7/+//6//z//P/8/wAA//////3//P////7/AAABAAAAAQACAAEAAAD//wAAAAAAAAAAAQACAAMAAgAAAAAAAAAAAP//AAAAAAEAAQD//wAA/v///wEA//8BAAEAAAAAAAAAAAAAAAIAAAABAAIAAAABAAAA/v/8//7///8AAP//AAAAAAAAAQAAAAAA/v/8//7//v///////v/8////AAD9////AQD+//3/AAAAAAIAAwAAAAAAAAABAAIAAgABAAAAAQABAAAAAgACAAAAAgACAAUACgAFAAMABQADAAMABAAEAAUABQAEAAIAAQAAAP//AQD+//3//v/8/wAAAAAAAAAA//8AAAAAAQADAP////////7//v///wAAAAAAAAAAAAABAAEA/v/9//7//v/+//z//f8AAAAAAQAAAAAAAAAAAAAA//8AAAEAAAAAAP//AAABAP//AgACAAAAAQAAAAAAAAAAAAMABAADAAIAAAABAAMAAgACAAIAAAAAAAAAAAAAAAEAAQD//wEAAwABAP//AQAAAAAA///8//z/+//7//v//f/+//3/+v/8//7///8AAP3//f/9//z//f/+//7//v////7///8AAAAAAQAAAP/////+//z//f8AAP//AAAAAAAAAAABAAEAAQABAAAAAAAAAAEAAQACAAMAAQACAAMAAgAAAAAAAQAAAP////8CAAMAAAAAAAEAAAAAAAAAAAAAAAEAAQD/////AAD//wAA/////wEAAAAAAP//AQADAAQABAAAAAAAAwACAAAAAAABAAIAAQAAAAAAAAAAAP//AAAAAP//AAD9//z///8AAP7//v8AAP////////7///8AAAAAAAAAAAAA/////wAAAQACAAEAAAAAAAIAAgAAAAAAAAD////////8//z//f///wAAAAABAAIABAADAAQAAwAEAAcAAwACAAEA//8AAAAAAQAAAAAAAQAAAAAA/////wEA/v/9//////////7//v8AAP7//v//////AAABAAAAAAABAAEAAAACAAIAAQACAAMAAQAAAAAAAAAAAAAAAAACAAIAAgAAAAMAAgAAAAEAAAAAAAAAAAAAAAQAAwD//wAAAAAAAAEAAAAAAAEAAQAAAAAAAAABAAAA/P/9/wAA//8AAAAA/v8AAAIAAAAEAAUABAADAAQABQAFAAcABgAEAAcABAACAAQABAAGAAUABAAHAAgABwAHAAYABAAHAAkACAAJABAAEAASABoAGQAcACIAJgAyAD4ASQBHADIAFwD6/+D/1f/f//b/EAAlADIAMwAyADYAPgBTAGkAeAB/AH0AfwCcAOsAbwE1AhIDuwMEBNUDRgOHAsYBKgG7AGkAGgC//1L/0f5E/rb9N/3F/Fv86vtZ+636+vlZ+ev4yvgA+W/59Plx+sr6Afsc+yn7S/uQ+/f7cvzo/FP9tP36/Tn+gf7o/oH/MwALAfsB6QLXA6EEYAUhBt8GrgeICGAJDAp7CrgKzgrXCsoKqgqBCj4K0QkyCW8IiQeJBnsFawRqA3gClAGzANr/B/84/nj9zvxE/NL7d/sz+wL76vrj+uv6/foV+zr7cvvD+yj8ivzh/CT9UP1y/YP9j/2Z/aH9s/25/bz9pv1u/Sn91vyE/Db88Puq+1/7DPuw+mP6L/oR+gH67/nm+ev5APop+lL6bvqG+q/6A/uD+wX8XPyU/ND8Hf1w/ZT9fP1e/bf9Jf/fAWcFrAi3Ck4LGwvlCigL6wvVDKANHA57DgoPwA9PEEoQpA+wDqUNegz5CggJuQZfBGoCJAF9AA0AbP+G/or9n/zB+9X61/nZ+CD43fcP+I74Efl9+eX5Yfr0+nj70PsK/Fj87PzO/cL+af+f/4T/Zf93/7n/EgBPAF4AQAD7/6L/Lf+V/ur9Uv3j/Jf8UPzv+3D72fpE+s/5jfmI+bD57fkp+lf6cvpz+mH6UfpS+nD6rPoO+4r7//tX/Hz8fvx7/IL8jPyP/IL8X/w0/Pz7pfsv+8P62Pr3+2P+1wF2BTYIhQmhCVAJXgklCmYLvwzsDe4O9w8fEUISAhMTE4wSphGNECsPVw0aC6sIfAbZBNkDQgOlAsoBuwCf/4r+Zv0c/L/6jfm9+G/4lvjx+Ej5j/nY+Sf6avqF+m76Uvpr+tr6n/uL/Fj91/0L/jD+cv7S/k//0P80AFwAKgCw/xr/jf4h/uT93/3z/e/9pv0X/VL8c/ut+i36Dvop+kL6PfoY+uH5nPle+Ub5VfmB+bf56fkO+if6MPo7+mP6ofre+hH7Svt/+5P7bfsm++r6xPqc+lH68/nf+bX6E/39AH4FJgnzCgULegpvCkkLzQxvDrEPlBBwEaQSFxQsFVwVsRSsE5ISPRFhD+gMFApkB1gFLwSwAz8DZgIjAcz/i/4+/cn7QPrk+Pn3lfeq9wL4Xviq+Pv4Xfm9+ez51vm4+eH5dfpX+zf81vwo/Vr9ov0L/o7+FP+Q/wQAXQB+AGIA/f9Y/5z++f2Z/WX9Nf37/Kj8LPx/+8H6LPrk+dP52vnU+an5W/nh+Gj4Ivgj+Gz45Ph8+Qv6Xvpr+lj6Xfpz+pD6vPoJ+3D7j/tb+xn7Afvo+nP6yPkX+db42PkU/cACkgjxC0MMMQvvCowLrQxEDvsPTxHCEYsSnBTjFsoX5ha2FQAV8BPxETEPTwwuCfsF3ANjA7UDLwOdAfz/zP61/Rn8Q/qn+F33jfZW9tn2kPfy9yX4gPgr+Z/5kPlU+Wj5LfpC+0z8Bv1V/Xv9mP3o/WT+4P5L/3P/ff9d/wH/ff7Z/Vj9Af3E/KD8c/xB/Nz7LPtX+oL59fjE+OL4NvmM+cf5zvmy+ZH5hvmw+f75VPq1+g37Yful+8X71Pva+w78bvyq/Kj8VfwB/MT7Sfuk+r755/ij+KH58fzCAUoG8ghfCTYJFglfCWsK5gvDDQgP7g93EX0TcxU7FhoW4RVUFUMUbRIwELYNyQokCHYG8QWkBZ8EKwOvAWcA+v5G/Y372flc+Dv3xfYB91H3fPeZ9/b3hPjP+Nz4z/jr+E351vmB+iv70/uA/C397/2f/hr/ev/K/x8ASwASAKD/Iv/G/pf+Zf4//hL+vv1N/bT8Evxg+5P67PmP+ZD5tfm1+ZT5TvkG+dP4xfjo+BP5Pvll+ZT5xfnh+QT6Ovpm+o36tPrN+rH6UPr5+cX5YPmQ+Ff35/XJ9Fv1jPkSAW0IDAySCw8K5QnICiQMBw5REOYRXhKYE7MWGBpqG5QarBlQGTMYuRWnEoMPvwu1B0wFSgXtBf4EnwKVAH//Wv5k/Bf6Bfg69vD0o/RI9ff1EvYP9q72y/d6+GD47/fI9y347/jb+ZL61/ro+lr7nfw9/nH/8f/x/+j/zv+J/zn/1/55/h3+If7p/gAAuQCKAJP/Xv4e/ST8mvtw+3T7TPsf+xH7B/vn+qH6b/pa+kv6P/pI+kX66vlO+cX4zfh2+Sj6hPp1+jz6Bvqs+Tz50Phb+K731fYS9mL1/PTi9c/5kAARB4AKYwpXCWwJQArTC9oNEBDLEYgSDxTkFpgZ0xpsGvAZbhngF2QVeRJqD8MLCAj4BeQFNwZGBUUDYQHj/0P+VPyA+r74APe89Xn1DvZ79nr2kfYk9wb4gfiH+Gr4Xfim+C755PmN+iX7+PsD/S/+Df+g/wkARwBiAAQAWf+H/tX9gf05/ST9M/12/eH90/1i/X/8VPs5+jT5w/i9+N/4Evkm+Uv5UflY+Yr5u/nf+c354vkf+kH6Mvrw+QP6Sfqk+vf69PrR+k76wvkz+UD4JPdZ9YTz2vIz9S78sgTECjgMqAovCskK3QtxDWAP1xEFE9YTZhbwGbccBR1OHBccORsyGVMWVhOuD8MKvAaMBV8GYQZWBOABPAD0/i39BPvT+Gf2G/Ty8nfzgPSo9Fz0q/Tb9eL2+Pan9nT2svZb92H4ivko+l76APt3/Dn+UP/B/3MA3gFLA8kDJgOeAd7/Pv4m/fv8Jv1Q/TT97PzH/BT8/Pri+Q753/i3+LL4v/hU+Kv34Pa99mT3J/j8+ML5mvok+/76k/pH+if6G/pg+sj6Kvvc+vL5Z/lU+E73/PX38x7zD/NC98X/aAdLDIAL0QnBCj4LEA1nDlUQMhODE0AVZhiDG7od9hzLHMocGRusGH8VrRKJDhcJ0wWZBaUG5AVyA3IBUQAg/xr97fqA+K/1d/Pt8h708vSr9Iv0ZfXp9o/3U/ch9w33Yfcm+FH5Z/qH+kf6wvoV/ID9Q/6t/nz/dwADAegAHwAQ/+P92fyO/M78RP2g/bn92/2w/Qz9J/wl+3z6K/oc+kv6Xvox+tX5hfmX+eD5D/pH+p/6JfuW+3r7D/uC+hH66fns+Sz6X/pI+uT5bfm/+J/3OvZm9LLyR/EO8q/3DwDWB/8K+Ql4CZ0JwQppDFgOlRFGExIUDxYGGU8cTx0rHYUd/hx9GxUZyRbbE3cOzAisBa8FSAYHBdkCCgHC/1r+oPyi+sr3YvQe8i7ydPMV9NXz5fMN9Yf2c/e495b3Zfeg9874bfp6+5H7Wfv8+zD9aP5b//b/vwBQAYQBZAGaAIP/Hv7U/B782fsR/Ff8l/yz/Fr8hvs8+gX5JPiz98T3FviO+Mr41Pjw+B35QfkR+QD5UvkA+sn6I/sz++z6kPpZ+if66Pmx+Xv53vgW+ID2VfQ88lXxwPVO/gYHCQz3CrcJ1gmDCpUMOQ6AEQ0UMBSZFQYYeBtcHR0dpB1yHRoc3hmqF40VlhD7CWQFtwTsBTkFygJkAAP/Ef7b/Hv77/hG9SXyUvGa8oTzTvMh8zj0JvZb95D3KPe39sP2x/e5+V/78Pub+7n71Pz8/cL+BP+P/4oAbwEeAgQCOwGh/8L9kPwb/Fr8dPyK/MD8rfxR/DX77fnD+Nf3o/fS9174tfix+Mb40/jZ+In4K/hj+CL5Dvq3+vH69Pq1+kH6uvkl+dT4Ofh595728PQ+88bxQ/QT/K8E8gohC2AJtAneCaYLgQ2TEIUUFBXVFV0XvxkOHPgbwxw7HSAcNRoMGOAWIRNHDBkGqAPDBBEFVwPeAOL+uf3O/Cz8cPrF9qnyufD08brzDPSI89fznPVj90v4NPhi98z2WPeA+ej72Pxe/N/71PyA/qP/EAAkAIkAGgG8AWYCdAJkAWj/if14/A/8tPtQ+077pvvi+4f7wvq4+XP4UPfQ9i/30Pf69/X3NfiC+FH4pfdK95/3WPgP+fb5sPpC+kX5i/iX96n2afUH9NLvEOa64D7vZA6qI/gYnfoo8NoHBSSTIjoIVvt0EVQ0Pz6FJTUDk/j7DdYrPDMAHKMAwQH6Hj80pCGU893Utd/7AqIXVQzD8dvl2/ORCRwN1/Yd2pHSsOV3AZUNTQQb9WDuKfrSBdgJXP+r7gP0IAI0GrAgCA57/hTzKf9ADa4KFAMS9nD6pAbLCWcEP/HF5RvmTe0F+NP25vBJ60PrB/SA91z0Ae1L6qX0mgEFCWMFC/tI9vT3e/1V/zX6avWZ9X/8DwO2AOv2Auxx6ATrUut15aPbYdW22BvvqxvpSdJPWx2X58rxKzrOaUJCJfh97fM2pXzza+8UKsvzyYD+niyaK3MEZ+KG5mMHFBp+ANXLvKxvwkX5zR9vGVT4hOWl8XMI6Ayu+qDnyOmyArMeMyc7Fu/69eu08c0A3QjCBB3+8gBzD28dyBl3AJriGdpM7HcD2Qhe/S32Gf17BB3+bezx34bhLuu69mEBqAndCZf/kPQM82X6Hv8B/Kn6awScFH0bXxFT/7bzN/Qt+sL8qvn69EPznPM38iftSOaH4abgUOQP6uPtCe0l5tPetNrd2avZX9zv92w2K3ZrfH45svVvAWxNUnNTPw/5wPpNRuF9eF1MA5C6ZLSE3BQFvA+C+/viEN959T8Ke/qZyw6rV8F6/q8sSS3UELz9ZAGUDAIMo/0C8ib2mQlCHk4kvRZu/NLlWuBJ68/5rv/C/rsC3w+1GswREPWO2rbYUu6TA5EIoAJhACcEJAId91nqmuV66F3tIfj0CF4WMhIM/qzvKPM/ADoFkf95/vsIABatFbUFrfPX6Qzp6Ore7LTuEe8M7o/qi+hJ5jnizd1U2l/ed+SZ5lHj9tsA29zqhyS9af9/G2NsEqD3GzLJc/1hwRD+5ckP311xbG0qGdJVo2iyEt6pA70Iwe5C1pbeNgQVFyj5wsYauATkgSFyPuIvVhKMBQMJRQ0tB5X5bvCm8tIBThTBGZ8JQOx31wbZjOot+hb+2P24BHQRmxfMDrP8Cu6J6TDuEfg8BXAREBPaBKHwpega8Dj3lO914+foAAONHA0dMggP9YLzpf6rBpoHggVbBc4HpQnZB739muyc3Zbai+Sr7+rwDulZ4lbk1+rX7Fvnct+u3WLhBOiA6tDkjeAd7Wwz9XX/fzFjYgqH8FkvYWyQUiv/m9t5CntWCGBIIAvNU51epbTP/P6CDjn4G95857YRiibiBa3OnL3/6LskHUDEM88agA0BCQcEafpR793noOje9acJjRU2DNjxDdsi17vk0fSc/YIDhw05GkUdChFs/yX1RvRl86TwnPQPA2IRKg4s+yns/ezM9Mnygeou7f7+zxGOFQANEAUJAnz/ifqt+dsAzwjOCcgEjgBm/W31puhu3r7dPeSl6QHr4Opz7ITuOu7E69zouOZu5vvlWuil52rliOVLAdVO/n7/f6ZN3/kC+4c89GCcLwLliNuiGu5ZjVBkDHrACJtCqEPVQQLWC8T0J+VR/E8n4i48AzjPWcgm8/Yj/DciLjccaQ/BBqP+0fPF5zXdjNx07IEFMxZsDyv34OFk3ifqDPYb/HYCnw9MH8gjrxfzAm/yn+3L8LP3egA/B3MHVf7u9Gvz+vSX7/vibeEH9RIQwBvyEYcE5gFABkoF5vxK+On8GQWRCPwF2ABG+IfsrOGz3YThSebm5yTokuvd8V71TPJx60Xl9ONi5CDm6eY941fj2/EaOd54/39faKEQsPCfJS9XgTxB7fbMIP2ESipezCrQ20Wk25+Vwk3xKgZL+GPo6fnBKABAKiCZ5OnFv91KDHUq0ipeHjkW4xAXCb75GefA1u7PGdtd9CQOdBbyCc72Luxt7jbzYPTD9wMFoRmKJi0ilBFTAOD1mPBW7gXx8/Zw+3z6aPgN/Mf/Gvmq5tLa4OaMAu4VKhPTB+QFCQ6cErkJG/x39Wn5LQFMBWYFiv/l9Gnp8uL046Hl7uPA4Grjne5T+iv+GPgi76PpO+nN6MPm5eIX3gvhDfROOBB3/3/mZx4YnPYqH7BHpS0S55vLzfqdRs1bTS605ZWyAqxaw/XlO/dJ8xrw3QTmLrxBsyVq7+nO1Nzf/sEWMBkKFgoZNxpuEqX+q+jX1+fPZdZO6YIB2hAwEOYG9f59/Ib5dfPT8Qn8hg9RHoAeHRS7CP/+TvON6LToevSk/rz7pfKT9NABMQfq9tvfUd6U9qgQtBViCy8FtAjrC2gG8P20+c75f/ub/pEECgdE/7TwouZc5+fqqeip4iPimOvD95r9I/sR9XTwbu2K60Pos+TZ4CXeTOMt+Ak3nHP/fzdnViAWAxQi8T7pH/3f4svx+js/+U9CKUvuocQyu1bG3tx56jnrLO93B7UwNkMmKzP8yN7w5cD5OwVnBfwI2RWSHYYYkAbZ8ffgR9Ww1LPfX/JRA7sLog4HD/wMmAVc+rX0A/paBjoPEQ/ICxgLbwm7/qvt9uW77XX4EPdT7srwkwD8C7gCwe6J6Fn29gdPC9QEmgP3CYsOWwpIAgr8mvfZ9LX1L/xEAlkAl/cO8Mbvu/Ax7HLkeuGP6Orzcfti/LD59Pb+8kHt5uUf3zPb5tiB3VjuECfRav9/o3I8NDsMEx+COM8fXONEyF7srC5jS9w0BAQA2ObDJMN40nzg1uOb5wD8JCVgQv85dBTh8aHqQ/J0+An5Df5uDWMaJhxREYMBBvLX4RDWXtRa37zxuwHFDJ4TnxYeFMwKpwCt+0b8Df7B/ZL/bAb1DKUJCfuW7njv1PeB+ODtw+d/8CUAUAas/mr3YfqyA/sHCgXjAqsETAc/B5EGxwZSBJD93fY39oX6nPsd9p7vcu+j9LX2BPIw62Ppo+2/8h71afXt9S/2G/Sk76/qYeY54vjbhNhn4mUTwFv/f3J3OUEeGdIlrT0eJqjmcMAh2YkakkJOOv4SGOpr1YLQWdcx27nWItcd69cWMTw9QFsmKwev+QH3pfMB7tDu4PyXDcIXlBdZEIIEwvKN4EzV4NbV4v7x9gDXDoUaYB8vGq4OiANg/DD3CvLJ8OX32AO1CToD2vgT9078oPpo7Mrg8+YU+vsGTQQb/mABfQsmD30I0ADQ/o3/Mf4K/fYAbwdRCM4BfPr1+M76j/m29LbwoPFG9bH3jvhc+fb5pvcu8hvume6/8YHz2PJn8iL0PvYK9HbtVuQF3cPYZOIcD2hRjX8XczBBTSTHL6xBliIx48a+I9aeEsU2KDIpE5bz6OL82mXbi9ku00fSCuOdC0Myjz7mLRETcwSz/iH5lu/96YXxwP/pDN0SyRJNDYT/d+3Y3nzbiuK07I72CQGmDRQYrRrkFQIOFgZx/CbxoOo97rf4af9b/Y75svxYBegGgPoD6lbkguxT92n8Rv/vBdkP3RVeFHcOUgf1/p71OfHj9vEBbwgRBvwA8f+IAFv82fEI6WXpqPDU9076hvsf/rL/Bf3j9a3veu1x7ofw8PIF9ij4gfcs81XtL+ag3AvShdbgAqNK7H3jdVJHECzaOdNLgyrG5Je4DMv+BeosiSyoEyz7+u5k5wrjR9t6z/XI7NTk+j0liDocNBQhYhUdD1wF3fRc58/n0vEm/r4Hyg9hFHAOLf4A6+zfXN8G44PnLu/e/aEPsBuvHk0bUxUyC7b7AO2+5xntpPOD9JH0vPyLCqsPawQg8/TqCO7T8Z7wKPGw+n4KNRaKGdEXdRP8CiT+XPNb8MTzgfeB+b39zwVEDDsKVQDV9WjwvO4d7Xrroe0W9c/95AK9Aj//Vvr39Efwwe0U7krv7O9N8RPzFPR07/3kCtm6264CC0E6cGppmUDoKw48YFAeMmfu/70tyF38ECGoIk8MFvl+9GH0mPMc6XPYgszk0kvyQRdzLZAtUSOFHTMZpA/3/Rbt4uXl5pHt7fbqAjINsg5lBuP4RO4P6dTmNubq6ELyKAHiEFwcICFwH6IWmwdB94HsgelC6RPodukl8hgAfAr0CkYF+v7y+dvzMe757wn5QANZCEkLhRKZGnwauw3H/HDzc/Py9YT0tvHy86/7ngMjBpUDMf+g+lj2ovKD8T/zhPb7+Ub9/QA5A6UCDP+5+c/0ffAV7i3uGfBu8jjzY/He7QTox+DW2Mrb8f38NulmA2htR2A0ez9mUEM1u/YHxrDIyvX1GPId/Qtn/Kv76f3q/A3wi9xezXTNtOTeBG4dIiUKIu0gMyDPGc4I7fMj5n/hE+VE7PT2mQP3C7sMggXI/HL2ivHO7NfoIeth9SoENhKNG4UfTRwoEYoC0/ZM8L7qR+PO3xXnpPa6Aq8DxP81ALkEBQRs+6H0lfdSAWkIAApVCwsQPRSBEeEIvQAv/Hr4UPN173rwbvVz+az65/sg/xkCjABm+0v3lve/+ij80vvx+7P+pALiA6oBNv0x+ar1nvEL7lzsv+1X8LzxDfJG8dTv5+tz5HrcPNnQ7TofnlcncpxeeEKePddNqUj3FFDXB7wg1hoBghWqDzT/5Pod/if/yvci5qjUksue1S/wtgz4H7QkHyTmIxAi+hmKCMf16+em4jLlM+z99iwBWgclB3wC+/1I+gj2XO9J6RTpSfGY/xMOuhgEHXgaABP6CWQBL/cL6mPe3ttC5KrwfPiZ+5L/aQY8CwkIFwA5++b8UwHsA+sFJwrTDwATixFsDbAJswVC/8P2ZvC372byofPX8fPwjfSD+sT9hPwn+ln6U/0ZADEB8wFEA70EUAXlBL0DiwHv/Vb5ivXV82TzMvIl8BLvjvAO84HzIPGr7G7piOaN48bhX+s8DoU/lGOHYG9GMjmvQRhIhihg8NHIZ80F8T0KuAuB/qX3Vv2CAzQDG/fI5Q/YZNab5R/8ExD2GYgcGB+RIdIgqxYiBa3ywuQV3ybgaefS8S/7tAAkAgwDbQTiA2T+CvVk7szvjfi3A+QM+xL1FYIVCRJXDH8E/fi/6qjfa90h5PjsqPIk99r97QVMCbEGlwOgA0cFfQQxAykGbg1PEyUSnwyMCA4H4wMd/AXzn+2T7Qfwz/E58+b1Bfq+/Vn/2f/fAOYCIwRpAxcCvQH2AnwD/AGL/879Zv1s/Gr6hfh598b2QfW186fzEvV29iX21PTi84nzevL+7jXq6+Q74Y3hsu8UFAVCQl88WXxD3zswRttHxSS37t7L19KQ8rIG5AXV+sP4KQHEB3gGjvmi57TXAdP+3lbzSAa6DzUU9xrjIh4mux1NDVH7Fe3s5Fzij+bh7k73vvzW/9EDLwiACaEEM/vS8h3wF/Ty+2AE4QpQDjoPRw8GD4wLqgHx8nLmAeKW5B3o3ukD7VT0tv17A6QEdgRSBVYGeQW+BAgHFgyHEIcR1xDTEIEQnAwdBAf79fRP8nDwB+5/7YPwbfaM+w/+Cf+g/2EAIADm/rb9rf1G/70BYgSEBpMHTAf4BfMDfAE2/lH6EPda9Vz1Jfbz9rD3SPji+Cj5vviB99j1cfTW8g3xgu7Z67/pkui+6QzuYP6uHrNDtleLT7k+VzmfP1k6axmK7+HX2d9G9Z8A8/3d9Rb2FPzpAIn/3/U26d3dUdzs5Uf1eQM9Cw0RvBcOHzki9hzHEW8D9PU662nlf+bo6yvyX/b4+af/bQZMCpIHzf/z92b0Cfax+gkARgT1BqEIdgoZDKsK3wMx+bTv8era6S3pY+hX6jPwZffL/OMAywX0CosN9wvTCHoHBAlrC1IMOAwLDIsMngwfC6EHwgHZ+h70me8m7uzuiPDB8ZrzNPfU/HICNQWEBCACoACeACMBKwHEAOQA/QHDA+EF4QelCFEH/QP8/7j8B/pc97n0NPO48+H1vvgn+9v8c/2W/Jv6V/jI9rX1XvTJ8qHxmPC777nvdPEY9Ab6ZwsoKFRCO0hNPDgyPjRiOFcqgwrw7L3j2u2R+B76rvQF8hr2pPs0/yv9VvbD7AXl3OSL69f1RP5ABM4KsxKzGvAdAhsjE58IG/6h9Lbu6uwf7l/wofKH9jj8FQImBQcEQQAv/NH5Rvkv+uv7jf3U/l8ARwOfBtIH5QQD/7P5w/YX9VLy++6t7ZLvb/No99H7NQGzBkoKRws1CyALowqoCMMFWgSyBesI2AsVDa0MrApFB3QCk/y69nvxYu1I62Ps0PC79s774/4lAREEQAd2CHAGvQIHAKD/FQCp/7f+nv4jAHoCjATWBQIGtwSkAYr95Plc93/11/P88uTzrvZe+mL9EP+O/9T+5Pw6+tn35fW180PxGe/67jjxSPQT9j/4LwTwHDk3+ECUN5AtjS8rN8cw6RYx+krsFfHj+UH7tvWH8NPxTfbj+jn8rviN8W/pV+ar6Vrx9fjW/aYCJQnAEfoYrxtmGWASOgng/9b49/SE8tfvfOzE6//v2/f6/ooBSAAo/tP96v6Z/7r+hfzN+iP7XP4fA5kG9wYoBccDLwNrAfv8Wfdm85bxavBo75DwWPXp+ykBLAT3BtUKZw5oD1gN/QlbB6kGegeACPIIkgiLB+cF1ANeASL+s/lj9ODv1O297nLxXvRB95v6zf4pA4EGJgjnBx8GcAPbAEX/kP4q/oT91PwJ/VP+wP/+/y3/q/4f/+P/qP9C/qb88fsx/Ev86vud+zT8bP0//lX+2/2N/Tz9Tvy9+uL4yPf39qn17/Ob8rjy//S2/UcP5iNCMKMvoCvJLbYzNTHGH/MH0fal8lT12/UG8tTtiO6k80j6GP9C/7H6UfP77U/tVvA79Jf2w/jd/C0EBw0BFBMXpxU4EU4LZQVoAKX7PvYj8GbrqeqL7iP1Bfsl/hv/BgBMAgkF5wUpA7P9xPiL90L68/3S/6n/q/86AWkDVQTsAtj/9/sY+D71hPQ99r34l/rr+2L+HgObCFMMuQzQCtQIxwcYB7YFgwMuAYT/Dv/F/8oAvgAl/8/8D/uK+r76v/p3+tH6lfyk/8UCwARLBeAEHwQ4AxcCeQBj/kf89PrG+ib7aPtW+5/72/yG/qz/0/92/zf/I//k/kv+l/3s/ET8yfua+5T7Qftc+mj55vjh+N74a/jn95f3P/eN9rf1XvXb9av4MQHjEHgi7Sz0LaosxS9KNPMw6iGwDVT+6/dd9tHzv+5D6srpgO1p88n4NfvD+a/1PPLZ8RX0nfbT96H4MvvGAFYITQ+PE3UUuRKrD04MzgheBBv+lvYR8M3sUO0n8G/zNfbh+Ez8fQBmBE8GTwXXAbf9N/sK+9775vsu+0T7J/0iAIYCfwNMA0ICgABc/q782fsO+3L5h/cV93D54v1WAkYF3gZDCM8JsArhCTIHhwMKAKf9svz4/A/+cf/7AIICvQNnBDcEGQMrAcr+Z/yI+nH5C/k2+eT5Xfus/VQAvQKWBOIFdgb8BUkE0wFx/4T98Pt5+nj5mfn8+hf9Af8lAI0AoQCuAFkATv+x/Vb89vtb/PD8LP13/W3+8f9hARYCKQIoAnsCSANYBEUF5AVaBuYGbgd/B6MGCAU0A1UBYv9Y/Yf7Pfp7+Rz5LPnY+dX6kPvN+7r7ivtD+9z6Wfr4+Yj6pf0QBNALkREMFCQVJBeIGVsZ0hSZDSsHUAPzACL+ZfrU9o30AfTr9LD2jfij+dD5tvkI+uD6iPtQ+0/6nflX+n38KP+IAYwDXwXkBs4HEgitB2IGAQTlAAT+WPza+677JPt3+pT65PvP/R7/O/+d/gL+sf1K/WT8+/p5+YL4Wfja+Nj5Q/v1/IT+r/+TAFQBvAFgAVEAF/9I/hX+QP6f/ir/GwBaAZYCfQPZA/0DJgQpBLMDqgJyAZYAOgAVAOP/rP/W/58ApgFWAlUC0gEpAX8Axf/g/uz9Gf2i/NL8j/1c/sH+s/6R/rL+7f7M/if+cv1L/Z79Tv6Q//8B2wUgCpENwg9ZEa4SKBPXEXEOCQrNBU4CZ//I/Iz60vjV9873n/je+ff6p/v/+zz8k/zn/Av96PyB/Ar86vs+/AH92v19/vP+b/83APkAPQHFAMz/0P4L/oP9E/3C/LX8Bv2u/Zf+i/9gAAgBZQGAAW4BLAGtAOT/5f4C/nH9F/3i/PD8e/1z/nz/ZQArAfABfwKFAgoCUQG3AEoADQALAFUA5gBrAbIBsAGLAWoBKAGqAPT/U/8j/3H/5P8PAPb/zv+9/6r/df9A/zv/i/8mAMsARwGOAacBkgE2AYwAt/8E/6P+j/6K/oX+xv5R/+P/JwALALr/Tf/m/pH+aP5P/vT9bP0J/QL9Ef3V/HP8XfzE/Ez9ov3F/cT9hv0K/Zf8bvyQ/CP98f5rAsEGmApLDW0PzBH/E60UCRPvD/cMxQqpCMgFMgKo/gr8k/rU+VL56vjN+Bn5wflv+t36Hvs6+zj7H/sz+9X7A/1L/jf/0f9fAA4BwwETAq8B1AAHAIr/LP+T/r79AP2k/If8ZvxH/H38Kv3q/Vn+fv7T/l7/rP9k/6H+/v2e/VP9Cf3e/C391v2P/lD/HgDmAHEBmAGEAXoBbwE9AeEAoQCrANUAvgA+ALX/oP8XALMAFQEoAUkBqwEiAnECNwKPAdsAXwBPAHYAkQCPAGoAPgAcAPX/rP82/6H+9f1t/U79tv13/iH/a/+U/xsACQEVArUCtQJVAvcB3QHbAZYBugB0/zb+X/38/LX8b/xK/HH88fx+/dv9Df4k/iv+Cf6z/Uj9+vza/LL8TPy6+5r72vyV/9MCrwUYCL0KAA4BEYoSChIsEAkOCgwSCrgHAQVlAlgACP8z/qn9P/3S/H/8TvxZ/KX83Pyx/Bf8dvs6+2X7rPvF+9P7MPz6/PX9zf5r/+H/LwBJACUA3f+a/1X/B/+f/iH+rP1l/XP9zP0d/jL+Gf4j/nL+pf5h/qL92vxq/FP8VvxN/EX8Zfzf/L/94v7s/4IAwAAfAfIB8QJ2A0MDuAJjAnECjwJFAn0BtQBcAG4AkwBvABYAtP9w/0X/Ff/p/sD+k/5N/vb93/1L/u7+Xv+I/6v/AACMAA0BNQEDAa0AawBhAH4AagAJAIf/R/94/8z/FAArACEAFADy/7X/Yf/7/of+/v17/TX9Of19/ar9t/33/fv+SQGeBDEIPwtuDfcO/w8tEN8O5gvdB7gDSgCy/an78fmu+Dv4x/g6+gb8t/37/sf/TwCSAHIAy/+9/oP9efza+477o/sY/N38xv20/rv/4QD5AZACdALkASsBeAC3/9/+Nf77/UD+vv5J/+D/cwDNAKgAFABo/+P+Y/69/Q39l/yC/MH8Jf2E/eD9NP62/nz/WQAwAcUBAwL5AcEBTAGLAMP/M//y/tT+rP6t/g3/rv8xAFcANAD9/+v/3f+p/0T/wf59/ov+2P42/3X/wv8vAMYAYgG/AdQBsgGGAWcBQQEHAa8AYwBiAJcA4gAoAVQBfQGqAbgBnwFdAQYBrABZACwAHAAdADAAPQBbAI0AtwDHAMAAxgAAAV4BsQHpAQsCKwI3AvMBbAHbAGMAEADO/5//rv/4/0IAXABIACsABwC+/1X/5f6Z/oD+fP6Z/t7+N/+a/+n/EwAZAO7/o/9j/zL/CP/j/sz+3/4d/27/w/8FAC0AOQApAAgA1v+k/3v/Uf8u/xf/Ev8b/yX/DP/V/qr+t/4L/1z/df9p/3X/uP/4/+v/fv8B/9P+C/9f/4P/gP+G/8D/DgAiAOT/ev9F/3b/1P8iAGUAtwAQATgB/gCOADwAIQATAOD/tP/U/0QArACsAF0A9/+u/5H/ef9q/33/xP8YAFMAhwC+APQA+gDHAIcAZwCFAK8AzgDXAMMAsgC2AMgA5wANARkBGAEKAfoAAAHsAKEARAADAA4ATwCSAK8ArgC9ANwA6wDKAHAABAC//6//xP/i//T/+/8SAD0AXgBeAEsALQAVACMAUQCAAIUAaAA9ABAA+P/R/6n/lf+J/4X/c/9b/07/Nv8Y//z+4P7I/rL+qf6r/sj+//4q/z7/Rv9n/57/t/+t/6H/u//w/woA4/+L/0n/N/81/yn/E/8J/xr/PP9j/2//X/9E/yD/F/8m/zz/U/9Y/1r/U/9K/07/Wf9j/2P/YP9r/6L/7P8zAE0ANAArADsAWgByAIIAoADLAPkAJQFJAV0BMgHBAFEAGwAaAA8A5/++/9T/NACXAMEAxQDQAPAADAHvAKoAdABqAIIAlQCXAMEAHwGZAQcCQgJrApECrwK0AoUCOwLSAVkB+QDCALoAzQDOAL8AyADiAOcAzACsAIwAYAAwABEA/f/r/9T/sv+Q/3H/YP9M/zT/K/8f/y7/X/+S/6n/nv+J/3H/U/8Z/8j+lP6b/rX+tP6m/q3+0/70/tn+j/5O/jr+Qv4j/tb9jf1r/Wf9TP0h/Rj9VP3b/XP+8f5t/+7/YACQAHQAJgDG/2r/Ef/V/s7++/5B/4j/x//5/xoAFQD5//j/AAADAAkAJABvANMAGwE1ASUBFAERAQcBBAH0AOAA1gDaAPgAIwFKAUcBLgEcARwBMQE8AScB7ACsAH0AcACBAJ8AuwDEAMAAwwDRANAArQCAAGoAfAC8AAYBUAGjAd0B/QH/Ae4B5wG+AXQBIwHvAOsA+AAXATgBVwFkAUQBCAG5AF8A//+b/0n/I/8g/yD/Hv8u/zj/M/8p/xH/Ev83/2P/cP9b/zz/LP87/0T/J//q/sH+zf71/v/+3f6n/n3+df5v/mz+cv52/oj+mP6o/rj+v/7D/sb+0/7n/vz+FP8r/zD/GP/q/rj+oP6k/r3+4f4N/0n/l//h/wcA+//J/5r/hf+U/6X/wP/v/ykAgQDXAPgA2QCLAEQAKwArADIALgAkAC4AXACdAMYA1gDJAMEA4wAXAVEBcQF1AWgBVAFGAUMBPQEcAfgA1wDOANoA2wDVALQAkwCRALsADQFMAWUBUwE0ASYBHAH6AKUAPgAIABsAVwCTAK4AtQC+AMAAogBnACcA8P/J/6r/pv/F/woATwBmAGYAYgBmAHEAYwA2APn/yf+r/4z/a/9Z/0z/Rf9R/2L/gv+i/8H/2v/Y/8j/qv+D/1X/Hf/b/qj+rf7b/hX/S/9w/4n/ov+s/5D/SP/5/sH+q/6//t7++f4g/1L/cP+A/4z/f/9f/zD/Dv8a/0P/c/+R/5f/qf/Q/+//3f+c/1D/Iv8g/0X/e/+//wgANgBdAHcAhQCNAGwAMQABAPD/DQBKAIAAnACtALwA5QAVARsBCAHtANUAzQDAALIAmwB2AFwAUgBWAGwAjwCwAMUAywDOANYA3gDFAI0ASAANAPT/7P/p/+7/8//9/yIAWACFAJsAjQBrAGUAfgCrANIAyACzAKsAtwDJALsAjwBDAPf/1v/f//v/CgD0/9D/0f/3/xMABgDE/4H/a/9u/3D/WP82/y3/Qf9j/3j/d/9f/0P/L/8p/yb/F//7/vH+Ev9d/7r/AQAoADwAUABVADQA9v+u/3L/Uf9T/2v/jP+z/8P/yv/E/63/m/+E/3P/Xf9Z/3H/mf/b/w4AJgArADkAWABpAGQATQA5AEMAXQB4AIAAdgBsAGkAWwA5ABgA8f/V/8//yv/G/8T/yf/X/+b/8//0//7/FgAlAB8AEQAEAPz/BAAHAP3/AQAWADEAPwBKAEgAQQA8ACEAGQAbAB4AMgBOAG4AjgCpALwAzQDSALsAkgBcAC0ADADy/9//0v/a//D/BgAoAEUATABLAEgATwByAJoAsgDBAM0A3ADfAMoAowBvAEMAGADd/7P/m/+H/4X/hf9+/4n/pv+9/8//yP+0/6b/mP+M/33/cP9t/2v/ev+R/5v/nP+O/4L/jP+l/7r/1P8JAEEAaQB5AF0ALAD0/6//X/8c/wD//v4W/0D/bv+u/+3/CgATAAsAAgAAAPT/2//P/9T/5P/7/wcAFgAxAFAAYwBqAHYAfQBtAFoARgArABsA9f/M/87/7v8VADYAPwA3ACcAEQDs/7n/jP9m/1L/Zf+c/9//HgBNAHEAmgC6ALYAhgBLACMABAD0//H/AAAcADIASwBuAIMAfgBUAA0AzP+v/67/t//F/8v/5P8dAF0AkACZAIMAZwBFACQAAwDa/7H/rP/C//L/MgBbAHgAhgB2AFgAMwAOAPT/3f/I/8v/4P/v/woAHgAWAAYA3v+4/6n/pf+4/8H/0P/u/wMADgAFAOf/qv97/3v/kP++/+T/AAAfAC4ALgAbAPr/xf+T/3P/bP+S/9L/CgAkACIAIQAmABMA4f+f/3L/aP9z/5H/sv/L/9r/4//y/wgAHgAqAC8AQwBlAI4AqQCcAHgAUgAvAA4A/P/9//f/9f8DAA8AGgAVAAMA9P/o//r/GgA2AEIAMgAZAP3/9v/5//L/5v/Z/+//EgAzAEYAKgD8/+H/5P/2/wUAHgAvAEcAeACXAJwAeQAvAOL/tP+0/7r/wf/a/+z///8bADIANgAgAPT/yv+4/83/+P8dADAAMQAtADAAOgA2AAsAwP9w/0n/Xf+K/8b/8P/+/yYAVABxAHYASQD4/7b/pP+x/9H/8f/9//7/BAAGAAIA9//b/7b/pP+0/+D/GQA+AD4AKgAWAAsAFwAlAA8A4f/D/8r/8/8nADIAEwAAAAIAFwAyADUACADG/5z/kf+c/7P/yP/P/9j/9v8nAFIAVwAvAP3/5P/w/xIALAAsABsADgAJAAsA///k/9L/2P///zcAZQB8AHgAXwBAACIACQD7/+v/3f/e//r/HQAtACAAAgD2////BAD9//H/5f/k/+j/5v/W/8H/tv+s/7b/1v/z/wQAEAAYAAoACAAGAPH/6P/Z/9f/+f8cADcAPgAwAB0ADAACAPT/4P/Y/9v/4v/n/+L/3//g/9z/5//9/w4AHgAyAEQAVQBVAEwAOAAmACEAFwAJAPX/2v/H/8n/z//b/+3/+P/9/xQALQA3ADUAHQAIAP///P/z/+n/4f/b/+P/7f/t/+n/7f/x//H//v8FAAcAEQATABgAHQAXAAsA/f/n/9D/xf++/7X/sf+6/8n/2//1/w0ADwALAAwADAAgADAAKgAcAAsACAAHAAIAAgD+//v/BQAfAEMAWQBcAEsALgAaAAEA7P/S/8X/y//o/x0APwBNAE4ANQAPAOX/u/+s/6r/tP/B/9f/+v8XACsANgAyABYACQAKABIAJgApACQAIgAdABkAIQAbAAgABAACAAQAGQA0ADYAIgANAO//3P/P/8D/wv/K/+f/BwAdACgAJQAeAAcA8f/j/8v/tP+q/7v/3f/4////AQD4//H/8v/i/9P/xv/I/+j//P/0/97/0//Z/+j/+//8//P/7//r/+//8v/y//L/8/8FACUAQgBJAD4AMwAqAB0ADAAFAAwACAD//wIAAQADAAYAAAABAAMACAAcADUASABWAFMAJwD9/+b/zf/B/8L/wv/g/wQAEQAVAAwAAwD8//b/5f/b/+L/5//2/wIABgATABQACADz/9j/1//b/9b/zf/P/+j/CAAbABQACgAFAAwAIAAsADYAOwA5ADQAJQASAPf/3P/E/7j/xv/t/w4AJAA3AEMAUQBWAEMAHwADAPL/5f/j/+f/5f/h/+P/7f/4//n/8P/s//D/8P/1//z/AwALAAgAAQDz/+//AQAbACsAHwASAAoAAgD0/+X/3P/W/+b/AwAZACkALQAgAAcA/v/y/+D/3f/W/97/7//2//b/+/8EAAEA+P/t//X/CQAVABEA+v/b/8z/vf+p/6r/vv/l/xkATgB5AHkAUAAjAP3/2P/H/8H/xf/h/wcAMgBJAEQANAAdAA4ABgAEAA8AGAAoACwAHAANAAEA9v/1////EgAtADcAOAAtABYAAwDs/+n/8/8AABkALwAzACUADwDu/9X/yP/B/83/3f/3/w0AFAAbABQA+//l/9f/1f/g/+3/6//r//T/+P/8//b/7P/s/+7/9v8DAAoAEQAOAAQA+P/s//D/+f8DAPz/7P/b/9f/4v/n/+3/6f/l/+z/+P8JAAsA/P/u/+b/8/8QACQALQAkABYAEwAWABoAEwD7/+7/8v8AAA0ADgALAAQA//8JABAADAABAO7/6//1//r/+P/z//T/+f8AAAIABwALAAIA9//5/wcADAALAAgAAgAAAAUABAAAAAEAAAAGAAoADQATABIAEAAOABIAFwAcABkAEwAaAB4AFgAWABoAGAAZABgAGAAbABoADgD8//j/9P/p/+v/6f/f/+D/3//o/+j/4v/m/+H/3//g/93/1//T/+D/6v/0/wYAEgAgACQAFwD+//D/4P/J/8n/1f/p//r//v/5//f/+f/0/+7/5//l//P/BAAQABIADwADAPn//v8GABYAGQAVABgAEgAIAP7/8f/s//T/AAARAB8AIAAYAP3/5v/i/+L/7//9/woAEQAVABYADQD//+r/6f/5/wsAIwA8AEQAPgAwABcABwD7//H/+P8HABoALQAxACsAGQAHAPj/5v/j/+z/+f/+//z/AwABAPb/8v/v//j/AQAAAAUACgAJAPv/6P/d/+D/7f/y//n//v8EAAkABAAAAPv/+v/5/+z/4v/k/+//9f/y//H/8v/5/wQAEQARAA8ACwAHAAUA+P/x//T/9f/7/wMABwAQAB0AIgAjACIAHwAeACYAJgAeABMA/P/7/wAABwAaABwAGwAYAA8ACAD///L/4//g/+f/8////wAA/v/2//H/8//o/+b/7//z//X/+P/3/+z/6v/s/+v/8v8AAAsADAACAP///f/6//f/6v/s//j/+f/z/+7/7P/r/+//8//+/wcACAAJAA0ACwACAP7//v/+//3/+/8FABEAGgAiABYACgAFAAQACgAJAAcAAwD+/wQADQAOAAYAAgD6//H/+//8//j/9f/z//z///////v/9v/4//3////4/+//7v/w//D/8v/8/wYACgAMAAwACAAIAAQAAAAAAPv/+f/4/wEABQABAAUAAQD//wMACQAFAAAABgADAAAA/v/7//n/9P/4//v//f8BAAwAEQAQAAwACAATABYADgAIAP///f/9//v/AAAAAAAABgANAA8ADQATABAACQAHAAgAEQAPAAQAAgADAAgADQAMAAwABQD///z/AAADAPz/9f/x//3/CgARAA0AAgD+//b/9f/z/+f/3P/f/+r/8P/3//L/7P/v//P/+/8AAAMABwAHAAsADQAGAP7/9v/7//3/+f//////AgAJAAUA+//5//z//P8EAA0AEAATABAACQD+//7/AQD6//7/CgAPABEAGAARAAkABAABAP7/7//u//L/8P/x/+3/3v/e//n/AgD+//b/7P/x//T/8//z//L/8//9/wcAEwAZAA0ABAABAAUACQACAAEACAASABwAIgAgABIACAAEAAEAAQD5//v//v8BAAsAEAAaABcACAAAAPz/+P/7//3/+v/8/wAA/////wAA+//9/wUABQALAAwABQAAAPf/9f/x/+7/8P/w//T/+P/1/+//6v/o/+n/6//x//H/+P/8//j/9f/s/+z/9P/4//D/9v8CAAwADAAFAAcAAQD9//7/AAADAAUAAwACAAIABQAHAAUAAwD+////BAACAAQAAQD6//3/+v/2//T/8P/1//v/BgAKAA0ACwAAAAQAAgD///n/8v/6/wAACAANAAwACQAGAAkABwAAAAEABAAGAAYACAAGAAMABwABAAUACgAIAA4AEQAUABEADgAQABAAEQANAA4AFQARABAAFAATABUACwADAAkADAAMAAUABAD///f/9//3//n/9v/2//T/7P/s/+f/3v/k//H/+P/6//z//f/8//v/+P/7//z/+v/9/wAAAwD4/+n/6P/s//X/+/8AAAkADAAOAAUA+//1//b/+P/3//z/AgAKAAMA///7//T/8//v//n/BwAPAA4ACwAEAP///f/5//f/+P/6/wIACQANAAMA9f/3//r/AQAIAAoADAAPAAwABAABAAMABAD9//j/+/8DAAgACwAMAAwAFgAjAC4ALwAiABYAEQAMAAMA+v/3//f/+P///wMAAQD//wIACAAIAAYA///9/wAAAAAAAPz/+f/4//X/9P/t//L/9//3////+//+/wEA///4//D/8f/1//7/AQD//wcADQAMAAsAAgD+/wMABQAGAAMABwAIAAMAAwD4//j/+v/3//b/+f////7////8//b/9//9//z//P/3//D//P8GAAIA+v/y/+v/8//7//T/7//x//f/AQADAPv/+//7//3/BwAGAP//+f/0//b/AgAHAAYAAwD9//r/9v/5//r/8//x//D/9v8AAAEA9f/v//j/+P/+//3/+f8AAAsAEgAOAAwADAALAAkACgAHAAYACAADAAUACgAJAAkACAAGAAYADQASAAgAAQD/////BwAKAAYADQAJAAMABQAFAAUAAgD9//j/+//6//3/AAD8/wIAAQABAA8ADQAEAAAAAQAFAAkACQAEAAoACgADAAMAAAD9//n/+v8AAAIAAAAAAP7/+/8AAAQABAD+//f/9P/2////+//6//n/8////wEAAAD9//L/+P/2//P//P/z/+3/8v/y//T/+f/x/+b/6v/p/+//9//v/+3/8v/5////AAD/////BAADAAEAAAD9//z///8IAA0AEAARAA0ADgANAA0AEAAMAAsACwAPABMACwAIAAsADAAHAAUACAAOABIADAASABIADgASABMAEQASABgAGQAXABoAGgAbACMAFgAUABcAEAAPAAwABAD///z/+f/9//T/7f/v/+7/8v/v//D/9//2//r/+f/z//P/8v/z//P/7//q/+z/7f/v//L/8//z/+v/6v/t//j/AQAAAPz/+P/9////+//y//P/8f/z//v/+P////3/+//8//z////7//b/9P/0//n//f/5////AgD9/wEACQAMAA8AEQANAAYAAgD///3/AQACAAQABgADAP3/+//9//3/+//6//7/AgACAAEA//8AAAMAAwAKAAcAAgAHAAcACwAEAPj/9//9/wAA///7//v/AwAGAAYABQACAP///f8FAAwACAAAAAIACgAIAAkACgADAAAAAAD+/////v/8//7///8AAP///f/6//b/+P/3//b/+/8AAAEAAwAFAAEAAQACAAUA///9//////8LAAsABwAJAAoACwASAA4AAQAFAAYAAQD9//r/+//8//3/AAAHAAkABwALAAwACgAMAAsAAwAHAAsADAAKAAIA///9//v//v8CAPz/9v/1//f/+f/0//f/AQADAAEAAQABAAAA/P/y/+//8P/w//b/9P/1//3/AQAFAAIA//////7/AwAIAAAA+v/5//v///8CAAoABwAEAAAA9//2//v//v/8//7/AgAFAAIA/P/+/wAA+//2//r//f/9//3//P8BAAYABgADAP//AQAIAAQAAQACAAMAEQARAAkACwALAAoADgAPAA8ACwAFAAUAAQAAAAAA/f8AAP7/AgAHAAIAAAD8//z/AgABAPz/+v8CAAQA//8CAAEA/P/+//z//P/6//r//v///wQAAwD9//v/+f/5//z//v/+//j/+/8AAAEACAAEAAMAAwD4//j/9f/4//7/+v/9/wAA/P/x/+//9f/t/+n/8P/z//r/+P/5//j/9P/2//b/+P/2//j/+//+/wQAAAD5//f/8//0//X/8//0//b/9v/+/wsACgAJAAkABgAJAAwACQAHAAYABgAKAAkADwAQAAgACgANAAsABQAIAAkABwAMAAsADQARAAwACwAGAP//AgD//wIAAwACAAIA+//6//r/9v/1//f//f/8//f/+f/5//v/+f/2//r///8AAAAAAwAEAAIAAgAIAAUABAAIAAYACQAHAAoADwALAAcACgAMAAcABAAGAAcABgANABIAEAANAAUAAQAAAP///P////v/+P/7//j/9v/8//7//P/9//v//f////z/9v/4//3///8BAP7/9v/2//f/9//8//v/+/8AAP7/AAADAAQAAwD//wQABwADAAEAAAAGAAYACQAKAAEABAADAAgACwAJAA0ABgAHAAcACgAMAAUABQACAPz//P/8//v//v8AAPv/+v/+//n/+v/6//f/+P/4//r/+f/7//7//v8BAAEA/f/6//n/+//9/wEA/v/+//r/8f/4//j/8//4//j/9v////3//P8AAP7/AQACAAcACQAHAA4ADgALAAMAAwAIAAMABwAKAAsABwACAAUACAAMAAkACwAHAP//AgAEAAEAAAD///v/+//6//3/AAADAAIAAAD+////AAD9/wEACQAEAAEACwAKAAEAAAD5//b/9P/t/+7/6v/o/+z/6v/0//v/9//4//f/9P/0//7////8/wAA/////wMABAACAAUABQD//wAAAgABAAIA//////3//f8AAPv////+//f/+f/6//v//f8AAAMABAACAAEAAwAAAAAAAQD///7//f/+//7/AwAIAAoADQAOAAgAAAABAAIAAQADAAIAAQADAAIAAgAJAAgABQAGAAMAAQAAAAMACwAJAAoACAAHAAoABQAFAAQABwAKAAgABwAKABAACwAHAAEA/P/+//z//P/7//f/AAD///X/+v8BAAUACQABAPv/+//8//3/+v/9//3/+/8AAAAA/f/0//H/8//z/+//8f/6//L/8P/y//L/9P/6/wAA+f/5//3/+v/9//7/AQAFAAMAAQAEAAYABwAIAAcACAAHAAkACgADAAEABgAHAAAA//8AAAIABQAFAAQAAQACAAEA//8DAAkACAAGAAoABgAAAAYABAD+/wEAAAAAAAAAAAADAAMABwAGAAIAAQD+/////f/+//7//f////z/+v/9/wAABwAHAAcACgAIAAoACAAHAAgACQAIAAoACwAHAAYABQABAP//AAAAAP//AgABAPv/+v/2//r//v/5//v///8CAAIA///8//j/+P/+//r/+f/7//n/+P/2//j/9//4//f/9//7//z/+//7//z//f/8////AQD+////AAD//wIA///9//7//P/7//T/9f/6//X/8P/z//r/+//1//j/+f/6/wAA/v8AAPz/AAAHAAIA/v8AAP//+////wUABgAKAA0ACgAHAAIAAAABAAAA//8AAAYABAACAAIAAgAJAAYABQADAP//AAD9/wIABQAEAAoACwALAA0ABQAEAAUAAQABAAEABgAKAAUABQAKAAgABgAIAAIAAAD9//z/AQD5//r//f/8//z//P/4//T/+v/7//3////+/wAAAgAHAAAA/v8AAP3/AAAAAAMAAgAAAAMAAgABAAEABQAFAAEA//8AAP///f/5//f/+v/9////+v/6//r//P8AAPv/+/8AAP//AAD//wIAAwADAAkABgAEAAMAAgAEAAMABAD///7/BAAGAAMAAgACAAIABAAEAAAA///9////AQD//wQAAAD9/////v/9//n/+f/+/wMAAwACAAEAAgAMAAwADQAIAAEABQADAP//BQAFAAIAAwABAAIABAAEAAUABQAAAP//AAAAAP///f//////AgACAP//AAD9//3//P/8/wAA+//4//r//P/8//f/9f/7//v/+f/9//3/AAADAP//AwAIAAUAAQD//wMAAgD9////AgACAP////8AAAEAAAACAAUABwAPAA4ABQAAAAIABgAEAAAAAAABAAAAAgAGAAQA///7//z//v/6//3/+//5//v//P8AAP3///8AAAIAAQD9//7/9v/x//b/9v/3//f/+P/7//7/AQAAAPz//v///wIAAQD//wMAAQAAAAEAAQAAAP3///8EAAEA/v/+//n//f//////AAD3//f//f/7//r//P/8//3/AgACAAAA/f///wQAAgACAAYABAD///3/AAABAP7/AQADAP//AgADAP7/AwACAAAABgAKAAwACQAIAAQAAQADAAQAAQACAAkABAD+//3/+v/7//3//////wAAAgABAAAAAgAFAAgAAwAEAAgAAgAFAAUAAQADAAkABgACAAwACQAGAAcAAAABAAEA///+//7////////////9//j/9P/2//f/9//3//P/+P/7//j/+//8//n/+v/+////AAD7//r//f8AAAQABAAEAAUACAAEAAIABwAEAAUACQADAAAABwAKAAMABQAMAAUAAgABAP7///8AAAMAAQAAAAEAAwAHAAkABgAAAAAAAAD///z//P/7//r/+//4//j//P/6//j/+v/6//z/AAABAAMAAQAAAAAA/v/6//3////8//z//v/9//z///8DAAIA/P/+/wAAAAAEAAgACQAJAAsACwAKAAkABwABAAUACQACAAEA/v/+/wAAAAAAAP7////+/////v///wQAAwD+////AAAAAAAAAAD9//z////2//P/9f/0//f/+v/9//z////+//v///8AAP//AAD6//j/+P/3/////f/5//7////9//r/+/8AAP7///8GAAQAAAACAAEAAAACAAEA/////wEAAQABAP///f/+/wEAAwAFAAcAAwAEAAIAAgAEAAMA/v/+/////f/+//3//v///wAAAgABAAIAAgAAAAAAAAABAAEA/f/6//7/AAD8//3/AgAFAAYABwAGAAkABAAEAAsACQAMAAYABQAHAAEABQAGAAQABAADAAIAAQAAAP///v/9//z//f////3//P///////f/3//f/+f/5//7/AQD8/wIABgACAAcAAwACAAIA+v/9/wEA/v/8////AwADAP7//P8BAAAAAAAFAAUABwAEAP7/AgAFAAMAAQABAAIA/v/9/wAAAAABAAEABAAIAAYACAAGAAAAAQAFAAUAAQAAAAQABgAEAAMABwADAAAAAQD+/wEABQAHAAgACQAHAAYABQD//wMABgADAAAA/v/6//3/AAD+//7/+v/1//j//f/7//v////+//3/+v/5////AwD9/wAAAAABAAEAAQAEAAEA////////AQADAP//+////wAAAAABAPz//P8CAAAAAAAAAP3//f/9//3//P///wEAAAD+//7/AAABAP3/+v/9///////8//z/AAD9//r/+/8CAAMAAAD///7/AgACAP7/AAAAAAIAAwAAAP7///////r/9f/7/wEAAAAAAAAAAAAAAPj/9v/5//v//P/9//n/+//9//X/9//3//b/9//8//3/+P8BAAQA//8CAAQAAwADAAQAAQD//wEACAALAAcABAAIAAoACgAMAAkACwAGAAIAAwD/////AAADAAIAAAD///z/+f/9//7//f///wAAAAADAAAA/P8BAAIAAgABAP7//f///wEAAQAAAP///v/7//3//f/5//3/AQACAAgABwACAAIABAABAPz//P8BAAIAAQABAAAABAABAP3//////wEA/v8AAAEA+v/9/wEAAAD//////v8AAAUABQAEAAAA//////v//v8FAAMAAwD///7/+//5////AAABAAEAAQABAP///f8CAAQAAgABAAIAAwABAP///////wEACAAIAAgACgAHAAcABgAIAAUAAAACAAQABQAGAAMAAQABAAEA/v/7/wMABQAAAP//AAD///3////+/wEAAwAAAP//+v/7///////9////BQACAAMABAAAAAYA/v/6/wAA+v/4//v/+f/8//7//P/9/wAAAAD//wMAAAD///////8BAAMABAADAAYABgAIAAkABQACAP7///8BAAAAAQACAAIAAgD9////AAD//wEA/P/9//z//P/9//z/AAD+//7//v8CAAYAAAD//wAA//8BAAAAAgAFAAQAAgD///3/AAABAP//AQD8//3/9//3////AQD///r//v/8//j/+f/5//b/+P/7//j/9f/2//j/+v/5//r//v/+//n/+P/6//v////7//v//f/7//v//f/7//3/AAABAAYABgAGAAUAAQACAAQABQAHAAYAAwABAAEABQAHAAcABQABAP7//v8FAAUAAQAAAAIAAQD///////8BAAMAAAAAAAAAAQAGAAQA/v/+/wAA//8DAAIA/P/+////AAABAAEAAAAEAAcAAAAEAAIAAgAHAAcACgAJAAkACAADAAEAAwAFAAQACAAKAAgABgAAAAQABAD8//z//P/+/wQAAwABAAMAAAADAAAAAAABAPz////6//j/+f/4//3/AAAAAAEA/v/5//z//f/8//v//P8AAP7/AAACAAAA/v/+/wEAAAABAAEAAAAAAAAAAQAAAAEABQACAP//AgAFAAMAAgABAAYACQAEAAEAAAAFAAUABAAEAAIAAwAEAAEAAQD+//r///8AAP7////7//r//f/8//v/+//9//3/+//7//n/9v/3//b/8P/2//z/+f/7/wAAAwAAAAEABAAFAAQAAwADAP//AAAEAAEAAAAHAAUABAAHAAQABQAEAAoACAAGAAsABgAHAAgAAQD+/wEAAgABAP//AQACAAMAAgADAAQA///+////AQD7//v/+//3//z/+P/3//n//v/5//T/+f/4//v/+v/7//v/9v/7////+//8/wAA/P/9/wAA//8BAAMAAQAHAAcAAQAEAAMABwAHAP//AQACAP//AAAAAAAA///8//3/AAACAAIAAAABAAIAAQD+//v///////3/+//7/wAAAAD/////AAD+//7/AAD//wAA//8BAAIAAAABAAYABwAKAAkAAgADAAYACAAEAAMABwAFAAEA/f/8//r/+//9//3//P/+//////////7///8AAP7//v////z//P////7///8AAAAA/v8AAAUABQAFAAUAAQAAAAEAAAD//wAAAgAAAAAAAAACAPz/+f////z//P/7//n//f8AAAAAAAADAAQAAgACAAIABgAHAAYAAgD//wUAAgD//wAAAQADAAAAAAD//wEAAgAAAAEABQAIAAMAAAAAAAAAAQABAAAA/P///wEA/v///wAAAAD///z///8BAAAAAAAAAAQAAwAAAAEAAAAAAAEAAgADAAYABQABAP//BgAIAAEABAAGAAgACgACAAEAAgAEAAMA+//+/wIAAAD//wEAAgACAAYABQAFAAYABgAHAAMAAAABAP///f/7//7//v/5//n/9//3//n/9f/2//T/9f/7//b/+v/7//j//P/4//f/+/8AAP3/+v////n/+f8AAP/////+//3//f/8/wAA//8AAAAAAwAHAAUABwAGAAQAAwAHAAUAAAACAAUABQAAAP3/AAABAAEA+//9////+v/+//7//v8AAP//AQD+//3/+f/2//z/+//7//r/+f/6//n/+//4//f/+v/8/wIAAQADAAQABwAQAA0ACAAGAAMAAwAFAAgABQAHAAUAAAABAAEAAgACAAUAAwABAAEAAwADAAAAAAD9//3//f8AAAMAAgADAAYACAAIAAsACQAIAAgABAAGAAQAAAABAAAAAAAAAAAA/v/6//f/+f/8//n/9v/3//z//f/9//v/+v8AAAAAAAD///3/+//7//v/8//1//r//f/6//r////9//7///8DAAEAAAABAAMABAACAAQABgAHAAQABgAJAAYAAgACAAIA//8AAAEA/v/9//3//P/9//3//P8CAAQAAAD//wAA/////wQAAwACAAIABQADAAQABQABAAYAAgD//wEAAgAGAAYAAQABAAIAAAAFAAUAAAABAAMAAgD///7/AAABAAIA///7//3/AAABAAAAAgABAAAAAQABAAEAAQACAAAABgAGAP//AAAAAAMAAgADAAgABwAEAAQABQAEAP//+v/7//r/9//7//n//f/+//n/+v/9/wAA//8BAAAAAAAAAP///////wAAAwAFAAEABAADAP3//P/9/wIAAQD+//r/+//7//b/+f/6//T/+v8DAAAAAAABAP//AAAAAP3///8BAAEAAAACAAYAAAD9/wEAAQAEAAIAAAABAP//AQAAAP///////wIAAwAJAAcABQAEAAAABAADAAEAAgABAPz/9v/3//3//v8AAAAAAAD+////AQAAAP////////r/+v/+//3//P/7//3//P/6//3/+//9////+//8/wAA////////+v/7/wAA+//7//z//f8DAAAAAAAAAAAAAwADAAMAAgAFAAQAAwAFAAEAAwAEAAIABQAEAAEABAAEAAIA///+/wAAAAAAAAAAAAD///z/AAAEAAIAAAD///z///8CAAMAAwACAAIAAgABAAAAAAD//wAAAwAAAAIAAwACAAUAAgACAAMA/f/6////AQD+//z/+f/5//7//v/9/wAAAAABAPz/9v/+//z/+v8BAP7//f////3//f8BAAAA//8AAAEABwAIAAkACQAFAAQABAAEAAQABwAFAAIABgAGAAMAAwAAAP//AQAAAAAAAAAAAP///v/+//7/AAADAAAAAAAEAAEAAAAAAP7///////3/AAABAAAAAAABAAAAAQAGAP//+v8CAAAA/v8AAP7/AQACAP7////9//T/9v/9////AAD9//3/AAD//wEAAgABAAAAAgACAAYABgABAAEABAAEAAEAAAAAAAQABAADAAcAAwADAAUAAwAIAAkABwAGAAIAAQACAAAA///8//z/AAAEAAUAAwABAP///f/5//j/+//6//v////+//n//P/8//3//f/6//7////+//3//v/+//3/AAD7//v/+//5//v//P////v/+//+//7//v/+/wAA//8AAAAA/v////f/+P/+//f/9v/4//n///8AAAAAAAABAAgACAAJAA0ACQAEAAYACQAKAAoABwAJAAoACgAJAAQAAgADAP///f/+//////8BAP7/+//9//z/9f/4/wAAAAACAAAA/f/6//j////+//7/AQABAAIAAgAAAAAABAAIAAQAAgACAAIAAgABAAIAAwADAAIAAwADAAEAAQADAAIAAQAEAAcABwADAP3/+//7//v/+v/9//3///////z//f8AAAMAAgAAAP7/AAABAAMABQAFAAMAAAAAAAAAAwACAP/////9///////6//f/9v/6//z///8BAAAAAAD5//v/AgACAAAA/v/5//r//P/6//z//v/9//r//P8AAP7/AAAAAAAABAAEAAIAAgABAAAAAAAAAAAAAAAAAP7////+//z/+v/6//7/AAAAAAEAAgACAAIAAgAGAAUAAgABAP///v8BAAEAAQD//wAABQAFAAYAAQABAAQA//8BAAMACQANAAsADgAMAAgACQAIAAgAAwABAAQABAAEAAUABgAAAAAAAAD8//3//f/6//z//P/6//v/+f/7//z/+v/8//z/+v/5//b/+//+//v//v8BAP7//P///wAAAQAAAAAABQACAAEAAQACAAQABAAFAAEAAAABAAAAAwABAAAAAgAAAAQABAD//wEAAgAAAAAAAAD///z/+v/7//z//P/4//f/9f/y//r//P/6//z//f/6//j/9//2//n//v/+////AwADAP//AAABAAYACQAJAA4ACgAHAAoABQAGAAcABgACAAEABQAAAAIABwAHAAYAAwAFAAkACQADAAEAAQAGAAcAAwADAAEAAQAAAAAA/v/7//3///8BAP3/AAACAAAA///8//3//P/4//f//P/+//z/////////AQD//wEAAQD6//r//P/+/wAA+P/4////AAD/////AAAAAAMAAQD+/wAAAQAGAAQA//8DAAMAAQACAP//AQACAP////8AAAAAAQAAAP7//f8AAAAA+//8////AAD///z//P/+/wAAAQABAAAAAAD///3/+v///wQAAgADAAMABQAFAAMABwADAAAAAAAAAAMAAAD//wEAAQABAAAA/////wAA///7//3/AAAAAAAAAQABAP//AQADAP//AQADAP//AgAFAAAA/v///wEABAAEAAUABwACAP7/AgAFAAMABAADAAAAAAAAAAAA+//7//7//P/6//z////8//r//f///wAA//8BAAIA//8BAAQABAAFAAEA//8AAAMABAAAAAQABwAGAAYACAAHAAQAAgABAAAAAAABAPz/+v/9//3/+v/6//v/+P/5//j/+P/5//T/9v/2//T/9f/1//f/+P/8/wAA//////v/+v/8//v////+//7/AgD//wAABAABAAIAAwABAAEAAAAAAAQABgAFAAYABgAEAAcABgACAAcABwAJAAYA////////AQD//////v/9/wAAAAAAAPz/+/////z//f/8//r//v/7//v////8//v/+v/5//f/9f/0//P/9v/7/////P/6/wAAAAD+////AAABAAQABQAFAAkACgAJAAoABwAGAAoADwASAA8ADgAOAA0ADgANAA4ADAAIAAYABgADAP//BAAEAAEAAwADAAAA//8AAAAAAQAFAAMAAAAAAP////8AAP///f///wAAAAAEAAQA///+//7////9//z//v/7//z/+f/5/wAAAAAAAAEABAABAP/////9//7/+//7/////P/6//z//f/8//7//v8BAAEAAAACAAAAAQABAP//AAD//wEAAQAAAAMABQAGAAEAAwAEAAAAAgABAAEAAQAAAP///P8AAP7//v/8//v//v/+//////8BAP///f8BAP7//f/9//3//v/8//r/9v/0//n/AQADAAAAAAAAAP//AgABAP7/AAAAAAMAAAD9/wEAAAABAAMABAACAAAAAAAAAAAAAgABAAAAAAABAAEAAAD///7/AAAAAP//AAABAAIAAgACAP////8AAP///f/9//3/AQAGAAgACAAJAAUAAAABAAAA/v8AAP//+////wIAAgAEAAEAAQADAAIAAAD8//n/+v///wAA+v/9//3/+////wEAAQABAAEA//8AAAAAAAACAAIAAAD//////v///wQAAQD//wIAAgACAAEAAQD+//7/AAD///////8BAPz/+v/4//X/+v/4//z/AwACAAYAAwABAAQAAgAAAAMAAgABAAQAAwAAAAAAAAAAAAEAAgAAAAEAAgAAAAMAAAD8//3//f8AAP7//v8AAAIABQABAP///v/+//////8AAAEAAwACAAAAAAD////////8//v/AAD///v//P/+////AAD8//v//v8AAP7//v8BAP////8BAAEAAAD///7/AAACAAEAAAAAAP//AAAAAP7/AAABAAIAAgD+//3///8DAAUAAQABAAAAAAAAAAMAAwADAAYABAAEAAUABgAEAAQACgAFAAAAAwADAAYABAAEAAQAAwAFAAAAAwAEAAEAAAAAAAEAAAAAAAEAAQAAAAAAAQAAAAAA/f/7//3//v/9//n/+P/5//v/+//7//z/+f/8/////f8AAAIAAAAAAP/////9//z///8AAAEAAQABAAAA//8CAAQAAwADAAMAAQACAAEAAAAAAAEAAAD//wMAAgACAAIAAgAAAP7/AAAAAAAAAAAAAAMAAwD///v/+//8////AAD//wAA//8BAAAA/v///wMAAQAAAAQAAQD//////P/9//3/+P/1//j/+v/8/////P/9//n/9v/5//j/9//3//v/AAAAAAEAAAD//////////wEAAgAAAAAA/v/8////AwADAAEAAwACAP//AQADAAYACQAGAAEAAQACAAAAAwAFAAQABwAGAAcACQAIAAoACgAJAAcABAACAAMABQAFAAYABQACAP//AAAAAP///v/8/wAA/////////v8AAAAAAQAAAAMABgAEAAMAAQAAAAAAAQAAAP/////+/wEA///6//v//f/9//r/+v///////P/7///////+/wAA///+///////9//z//P/5//f/+//9//3//v/7//X/9//+/////v///wEABAACAP//AQAGAAMAAQABAP//AgACAAQAAgAAAAEAAgAEAAQAAgABAAAAAwAGAAMA///+//v//P////3/AAABAAAAAAABAAUABgAEAAIAAAAAAAEABAADAAMABQAGAAEA//8FAAMAAQABAAAAAgADAAIAAQAAAAMABgACAP3///8BAAMABAAAAP7///8AAP7/+v/8//v/+f/5//f/+P/3//n//P/6//n/+f/8/////////wEAAAAAAAAA/v/+/wAAAAAAAAMAAwD//wYABQAAAPz/9v/7//z///////3/AAD///7//P/+/wAAAAAEAAMABAAEAAYABwAFAAcAAwD//wEAAwABAP///v/+//z//P/9//3///////3///8BAAEA//8AAAEAAAACAP///v/9//7/AQD//wAA///8//7///8BAAQAAwADAAMABQAFAAIAAgABAAAAAAAAAAEABQAFAAEAAQD/////BAADAP3///8AAP7/AQABAP///P/7//r/9//7//v/+//+//v/+f/6//j//f/9//v//f/9////AAD///7//v8BAAMAAwABAAMAAwACAAYACgAKAAkACwANAAwABwAFAAYABAAEAAMAAgAAAP//AAAAAP3/+//9//7//P/5//3////7//v/+//9//r/+v8AAPv//P8BAP7///8AAAEABAADAAYAAwAAAAMABQAGAAUABAAFAAQABwAHAAIACAAJAAYABQAEAAcABAACAAEAAgAIAAYABQADAAcACwAGAAQABAACAAEAAwABAAEAAgADAAAA/v8AAP//AAAAAAAA/f/+/wEA/v8AAPz/+f/4//n//P/6//7////7//n//P/+//n/9v/3//n/+//7//r/+f/4//v/+//8/wAA/f/9/wAA+//8//7///8AAAIABAAFAAYAAgABAAcABAACAAQAAgAEAAMAAQD+/wAAAQAAAAAA//8BAAAA//8BAP//AAD+//3/AAACAAMA/f/7////AAD///z//P/+/wEAAAD//wIAAAADAAQAAgAFAAMAAwADAAQABgADAAEAAAABAAEAAAABAAAAAwABAAEA/f/6/////f/9//f/9P/7/////////wAA//8AAAAA//8AAAAAAAAAAAEABAAFAAMAAwAAAAAAAAAAAAMAAAD//////v///wAAAQAAAP//AAD//wAA/f/6//n/+P/7//j/9//2//f/+//5//j/+v/7//z//f8AAP///f/+//3//P///wEAAAACAAUAAwACAAAAAQAEAAQABQABAAEABQAFAAYAAwAFAAcABQADAAMABQAAAP//BQADAAUABgAFAAMAAQACAAEAAQAAAAEAAwACAAAAAAAAAP///v/9//7////+//3//f///wEAAAD//wAAAQACAAEA//8CAAQAAAD//wAA//8AAP///v8DAAIA//8AAAAA/v/+//////8AAAEA///+////AAAAAAAAAAAAAAAAAQADAAEAAAD///7/AgACAAAAAQABAAAAAQAFAAUAAQAAAAAAAgAAAAAAAgABAAEAAAD/////AQADAAMABAAHAAgABQACAAEAAQABAAQAAwAEAAgABgADAAEAAAAAAAAA/v/+/wAAAAAAAAMAAwABAAEAAAD//wIA/v/+//7/+/////z/+//+//3//v///wAA///8//r/+f/6//v/+v/+//3/+//9////AAAAAAAAAAD//////f/9//7//P/8/wAAAAAAAP////8CAAEA/v/7//z///8AAAAAAAABAAEAAwADAP///P/8/wAAAAD+//7///8CAAEAAAD+//z//P/9//r//f////z///8AAAAAAAABAAEAAgACAAAAAgABAAMAAgADAAYABAAIAAcABAAIAAYABAAEAAEAAAADAAUAAwAFAAQAAQAEAAQAAwABAAMABQAEAAIAAgAEAAMAAAAAAAAAAAAAAAAA///7//v//P///wAAAAAAAAMABQABAAAAAQAAAAAA//////v//P/+//3//v/+//7//v8AAP//AAADAAAAAAABAAMAAgD+//r/9//8//z/+v/+//z//f///wAA///+//////8AAAAA///+/wAA/v/9//z//f/9//n//P///////v8AAAAA//8CAAMAAAD+/wEAAwACAAAAAAAAAAIABQAEAAMAAQAFAAcABAADAAMAAgABAAIAAgABAAMABAADAAIAAQAAAAEAAAAAAAEABQAHAAIAAgABAAIAAwD/////AAD/////AAABAAAAAAAAAAAA/v/7//z//////wAAAAABAAAAAAAAAP3/+//9//3/AAD//wAABAADAAMAAQAAAAAAAAABAAAAAQD///7/AAABAAEAAAD+////AAAAAAEAAAABAP///P/9//r/+v////7//P/5//3//f/9//7/+f/7//r/+P/4//j/+P/6//n/+v/7//r////+//7/AAAAAAAAAAAAAAAA/////////v8BAAEAAAABAP/////9/wEABQADAAIAAQACAAEA///9////AgAEAAgABgADAAUABgAEAAUABAABAP//AAADAAIAAAABAAQABAAFAAMABQAHAAMABAABAP///f/+/wEAAQABAP3/AQACAAEAAwAAAP//AAD//wEAAQAAAP////8AAP///f/9/wAA/P/9/////P/+//7//////wAA///9//7//////wAAAAABAAAAAAAAAAMAAwADAAMAAwAHAAYABQADAP//AQADAAMAAAABAAAABAAHAAQABQABAAEAAgADAAQAAQADAAQABAAGAAYAAwACAAIAAQD+//z//f///wAAAAD/////AAABAAIAAQADAAQAAAAAAAAAAwADAAEA///9///////9//v//v8AAP//AAAAAP7//f8AAP////8AAP7//v/9//v//f/+//z//P/+/wAAAQAAAAAAAAAAAAAA//8AAP///v8AAAEAAQAAAAEAAQD/////AAAAAAAAAAABAAMAAwAAAAAA//8AAAEAAgACAAIAAwABAAAAAgADAP///v8AAP3/+//6//z/AAD9//7//f/7//z//f/8//j/+v/7//v//f/8//z//P/8//z//f///wEA/v/9/wIAAAAAAAIAAAAAAAAAAAAAAAAAAQABAAQABQADAAIA//8AAAAA//8DAAIAAQACAAIAAAAAAAEA//8AAAMAAQAAAAEAAQADAAIAAQABAAAAAQABAAIAAAD///////8AAAAA/////////////wAAAAD9//7//v///////f/9//v/+v/7//7/AAAAAAEAAgAAAAAA/////wEAAQAAAAAAAAABAAEAAgABAAAAAwACAA==\" type=\"audio/wav\" />\n",
              "                    Your browser does not support the audio element.\n",
              "                </audio>\n",
              "              "
            ]
          },
          "metadata": {}
        },
        {
          "output_type": "stream",
          "name": "stdout",
          "text": [
            "Label: left\n",
            "Waveform shape: (16000,)\n",
            "Spectrogram shape: (124, 129, 1)\n",
            "Audio playback\n"
          ]
        },
        {
          "output_type": "display_data",
          "data": {
            "text/plain": [
              "<IPython.lib.display.Audio object>"
            ],
            "text/html": [
              "\n",
              "                <audio  controls=\"controls\" >\n",
              "                    <source src=\"data:audio/wav;base64,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\" type=\"audio/wav\" />\n",
              "                    Your browser does not support the audio element.\n",
              "                </audio>\n",
              "              "
            ]
          },
          "metadata": {}
        }
      ],
      "source": [
        "for i in range(3):\n",
        "  label = label_names[example_labels[i]]\n",
        "  waveform = example_audio[i]\n",
        "  spectrogram = get_spectrogram(waveform)\n",
        "\n",
        "  print('Label:', label)\n",
        "  print('Waveform shape:', waveform.shape)\n",
        "  print('Spectrogram shape:', spectrogram.shape)\n",
        "  print('Audio playback')\n",
        "  display.display(display.Audio(waveform, rate=16000))"
      ]
    },
    {
      "cell_type": "markdown",
      "metadata": {
        "id": "xnSuqyxJ1isF"
      },
      "source": [
        "Now, define a function for displaying a spectrogram:"
      ]
    },
    {
      "cell_type": "code",
      "execution_count": null,
      "metadata": {
        "id": "e62jzb36-Jog"
      },
      "outputs": [],
      "source": [
        "def plot_spectrogram(spectrogram, ax):\n",
        "  if len(spectrogram.shape) > 2:\n",
        "    assert len(spectrogram.shape) == 3\n",
        "    spectrogram = np.squeeze(spectrogram, axis=-1)\n",
        "  # Convert the frequencies to log scale and transpose, so that the time is\n",
        "  # represented on the x-axis (columns).\n",
        "  # Add an epsilon to avoid taking a log of zero.\n",
        "  log_spec = np.log(spectrogram.T + np.finfo(float).eps)\n",
        "  height = log_spec.shape[0]\n",
        "  width = log_spec.shape[1]\n",
        "  X = np.linspace(0, np.size(spectrogram), num=width, dtype=int)\n",
        "  Y = range(height)\n",
        "  ax.pcolormesh(X, Y, log_spec)"
      ]
    },
    {
      "cell_type": "markdown",
      "metadata": {
        "id": "baa5c91e8603"
      },
      "source": [
        "Plot the example's waveform over time and the corresponding spectrogram (frequencies over time):"
      ]
    },
    {
      "cell_type": "code",
      "execution_count": null,
      "metadata": {
        "id": "d2_CikgY1tjv"
      },
      "outputs": [],
      "source": [
        "fig, axes = plt.subplots(2, figsize=(12, 8))\n",
        "timescale = np.arange(waveform.shape[0])\n",
        "axes[0].plot(timescale, waveform.numpy())\n",
        "axes[0].set_title('Waveform')\n",
        "axes[0].set_xlim([0, 16000])\n",
        "\n",
        "plot_spectrogram(spectrogram.numpy(), axes[1])\n",
        "axes[1].set_title('Spectrogram')\n",
        "plt.suptitle(label.title())\n",
        "plt.show()"
      ]
    },
    {
      "cell_type": "markdown",
      "metadata": {
        "id": "GyYXjW07jCHA"
      },
      "source": [
        "Now, create spectrogram datasets from the audio datasets:"
      ]
    },
    {
      "cell_type": "code",
      "execution_count": null,
      "metadata": {
        "id": "mAD0LpkgqtQo"
      },
      "outputs": [],
      "source": [
        "def make_spec_ds(ds):\n",
        "  return ds.map(\n",
        "      map_func=lambda audio,label: (get_spectrogram(audio), label),\n",
        "      num_parallel_calls=tf.data.AUTOTUNE)"
      ]
    },
    {
      "cell_type": "code",
      "execution_count": null,
      "metadata": {
        "id": "yEVb_oK0oBLQ"
      },
      "outputs": [],
      "source": [
        "train_spectrogram_ds = make_spec_ds(train_ds)\n",
        "val_spectrogram_ds = make_spec_ds(val_ds)\n",
        "test_spectrogram_ds = make_spec_ds(test_ds)"
      ]
    },
    {
      "cell_type": "markdown",
      "metadata": {
        "id": "6gQpAAgMnyDi"
      },
      "source": [
        "Examine the spectrograms for different examples of the dataset:"
      ]
    },
    {
      "cell_type": "code",
      "execution_count": null,
      "metadata": {
        "id": "EaM2q5aGis-d"
      },
      "outputs": [],
      "source": [
        "for example_spectrograms, example_spect_labels in train_spectrogram_ds.take(1):\n",
        "  break"
      ]
    },
    {
      "cell_type": "code",
      "execution_count": null,
      "metadata": {
        "id": "QUbHfTuon4iF"
      },
      "outputs": [],
      "source": [
        "rows = 3\n",
        "cols = 3\n",
        "n = rows*cols\n",
        "fig, axes = plt.subplots(rows, cols, figsize=(16, 9))\n",
        "\n",
        "for i in range(n):\n",
        "    r = i // cols\n",
        "    c = i % cols\n",
        "    ax = axes[r][c]\n",
        "    plot_spectrogram(example_spectrograms[i].numpy(), ax)\n",
        "    ax.set_title(label_names[example_spect_labels[i].numpy()])\n",
        "\n",
        "plt.show()"
      ]
    },
    {
      "cell_type": "markdown",
      "metadata": {
        "id": "z5KdY8IF8rkt"
      },
      "source": [
        "## Build and train the model"
      ]
    },
    {
      "cell_type": "code",
      "execution_count": null,
      "metadata": {
        "id": "fdZ6M-F5_QzY"
      },
      "outputs": [],
      "source": [
        "train_spectrogram_ds = train_spectrogram_ds.cache().shuffle(10000).prefetch(tf.data.AUTOTUNE)\n",
        "val_spectrogram_ds = val_spectrogram_ds.cache().prefetch(tf.data.AUTOTUNE)\n",
        "test_spectrogram_ds = test_spectrogram_ds.cache().prefetch(tf.data.AUTOTUNE)"
      ]
    },
    {
      "cell_type": "code",
      "execution_count": null,
      "metadata": {
        "id": "ALYz7PFCHblP",
        "colab": {
          "base_uri": "https://localhost:8080/"
        },
        "outputId": "b7ffe12d-97d8-41e5-b9d9-dcd0dc443ac3"
      },
      "outputs": [
        {
          "output_type": "stream",
          "name": "stdout",
          "text": [
            "Input shape: (124, 129, 1)\n",
            "Model: \"sequential_1\"\n",
            "_________________________________________________________________\n",
            " Layer (type)                Output Shape              Param #   \n",
            "=================================================================\n",
            " resizing_1 (Resizing)       (None, 32, 32, 1)         0         \n",
            "                                                                 \n",
            " normalization_1 (Normaliza  (None, 32, 32, 1)         3         \n",
            " tion)                                                           \n",
            "                                                                 \n",
            " conv2d_2 (Conv2D)           (None, 30, 30, 32)        320       \n",
            "                                                                 \n",
            " conv2d_3 (Conv2D)           (None, 28, 28, 64)        18496     \n",
            "                                                                 \n",
            " max_pooling2d_1 (MaxPoolin  (None, 14, 14, 64)        0         \n",
            " g2D)                                                            \n",
            "                                                                 \n",
            " dropout_2 (Dropout)         (None, 14, 14, 64)        0         \n",
            "                                                                 \n",
            " flatten_1 (Flatten)         (None, 12544)             0         \n",
            "                                                                 \n",
            " dense_2 (Dense)             (None, 128)               1605760   \n",
            "                                                                 \n",
            " dropout_3 (Dropout)         (None, 128)               0         \n",
            "                                                                 \n",
            " dense_3 (Dense)             (None, 8)                 1032      \n",
            "                                                                 \n",
            "=================================================================\n",
            "Total params: 1625611 (6.20 MB)\n",
            "Trainable params: 1625608 (6.20 MB)\n",
            "Non-trainable params: 3 (16.00 Byte)\n",
            "_________________________________________________________________\n"
          ]
        }
      ],
      "source": [
        "input_shape = example_spectrograms.shape[1:]\n",
        "print('Input shape:', input_shape)\n",
        "num_labels = len(label_names)\n",
        "\n",
        "# Instantiate the `tf.keras.layers.Normalization` layer.\n",
        "norm_layer = layers.Normalization()\n",
        "# Fit the state of the layer to the spectrograms\n",
        "# with `Normalization.adapt`.\n",
        "norm_layer.adapt(data=train_spectrogram_ds.map(map_func=lambda spec, label: spec))\n",
        "\n",
        "model = models.Sequential([\n",
        "    layers.Input(shape=input_shape),\n",
        "    # Downsample the input.\n",
        "    layers.Resizing(32, 32),\n",
        "    # Normalize.\n",
        "    norm_layer,\n",
        "    layers.Conv2D(32, 3, activation='relu'),\n",
        "    layers.Conv2D(64, 3, activation='relu'),\n",
        "    layers.MaxPooling2D(),\n",
        "    layers.Dropout(0.25),\n",
        "    layers.Flatten(),\n",
        "    layers.Dense(128, activation='relu'),\n",
        "    layers.Dropout(0.5),\n",
        "    layers.Dense(num_labels),\n",
        "])\n",
        "\n",
        "model.summary()"
      ]
    },
    {
      "cell_type": "markdown",
      "metadata": {
        "id": "de52e5afa2f3"
      },
      "source": [
        "Configure the Keras model with the Adam optimizer and the cross-entropy loss:"
      ]
    },
    {
      "cell_type": "code",
      "execution_count": null,
      "metadata": {
        "id": "wFjj7-EmsTD-"
      },
      "outputs": [],
      "source": [
        "model.compile(\n",
        "    optimizer=tf.keras.optimizers.Adam(),\n",
        "    loss=tf.keras.losses.SparseCategoricalCrossentropy(from_logits=True),\n",
        "    metrics=['accuracy'],\n",
        ")"
      ]
    },
    {
      "cell_type": "markdown",
      "metadata": {
        "id": "f42b9e3a4705"
      },
      "source": [
        "Train the model over 20 epochs for demonstration purposes:"
      ]
    },
    {
      "cell_type": "code",
      "execution_count": null,
      "metadata": {
        "id": "ttioPJVMcGtq",
        "colab": {
          "base_uri": "https://localhost:8080/"
        },
        "outputId": "b6e47ae8-0fee-44ae-88a6-a37d256afdf3"
      },
      "outputs": [
        {
          "output_type": "stream",
          "name": "stdout",
          "text": [
            "Epoch 1/20\n",
            "100/100 [==============================] - 43s 416ms/step - loss: 1.7221 - accuracy: 0.3797 - val_loss: 1.2824 - val_accuracy: 0.6328\n",
            "Epoch 2/20\n",
            "100/100 [==============================] - 41s 411ms/step - loss: 1.1683 - accuracy: 0.5917 - val_loss: 0.8935 - val_accuracy: 0.7370\n",
            "Epoch 3/20\n",
            "100/100 [==============================] - 27s 271ms/step - loss: 0.8753 - accuracy: 0.7042 - val_loss: 0.7402 - val_accuracy: 0.7656\n",
            "Epoch 4/20\n",
            "100/100 [==============================] - 24s 238ms/step - loss: 0.7170 - accuracy: 0.7481 - val_loss: 0.6223 - val_accuracy: 0.8138\n",
            "Epoch 5/20\n",
            "100/100 [==============================] - 24s 239ms/step - loss: 0.5991 - accuracy: 0.7855 - val_loss: 0.5716 - val_accuracy: 0.8320\n",
            "Epoch 6/20\n",
            "100/100 [==============================] - 25s 246ms/step - loss: 0.5381 - accuracy: 0.8064 - val_loss: 0.5513 - val_accuracy: 0.8216\n",
            "Epoch 7/20\n",
            "100/100 [==============================] - 24s 241ms/step - loss: 0.4712 - accuracy: 0.8313 - val_loss: 0.5247 - val_accuracy: 0.8424\n",
            "Epoch 8/20\n",
            "100/100 [==============================] - 24s 241ms/step - loss: 0.4094 - accuracy: 0.8558 - val_loss: 0.4949 - val_accuracy: 0.8477\n",
            "Epoch 9/20\n",
            "100/100 [==============================] - 23s 225ms/step - loss: 0.3891 - accuracy: 0.8644 - val_loss: 0.4716 - val_accuracy: 0.8451\n",
            "Epoch 10/20\n",
            "100/100 [==============================] - 26s 265ms/step - loss: 0.3483 - accuracy: 0.8775 - val_loss: 0.4600 - val_accuracy: 0.8542\n",
            "Epoch 11/20\n",
            "100/100 [==============================] - 22s 224ms/step - loss: 0.3271 - accuracy: 0.8872 - val_loss: 0.4580 - val_accuracy: 0.8490\n",
            "Epoch 12/20\n",
            "100/100 [==============================] - 23s 231ms/step - loss: 0.2947 - accuracy: 0.9003 - val_loss: 0.4401 - val_accuracy: 0.8568\n",
            "Epoch 13/20\n",
            "100/100 [==============================] - 23s 234ms/step - loss: 0.2699 - accuracy: 0.9062 - val_loss: 0.4481 - val_accuracy: 0.8581\n",
            "Epoch 14/20\n",
            "100/100 [==============================] - 23s 229ms/step - loss: 0.2496 - accuracy: 0.9156 - val_loss: 0.4337 - val_accuracy: 0.8698\n",
            "Epoch 15/20\n",
            "100/100 [==============================] - 24s 240ms/step - loss: 0.2438 - accuracy: 0.9203 - val_loss: 0.4318 - val_accuracy: 0.8711\n",
            "Epoch 16/20\n",
            "100/100 [==============================] - 22s 223ms/step - loss: 0.2253 - accuracy: 0.9236 - val_loss: 0.4005 - val_accuracy: 0.8698\n",
            "Epoch 17/20\n",
            "100/100 [==============================] - 24s 243ms/step - loss: 0.2019 - accuracy: 0.9327 - val_loss: 0.4379 - val_accuracy: 0.8750\n",
            "Epoch 18/20\n",
            "100/100 [==============================] - 24s 240ms/step - loss: 0.2048 - accuracy: 0.9306 - val_loss: 0.4282 - val_accuracy: 0.8633\n",
            "Epoch 18: early stopping\n"
          ]
        }
      ],
      "source": [
        "EPOCHS = 20\n",
        "history = model.fit(\n",
        "    train_spectrogram_ds,\n",
        "    validation_data=val_spectrogram_ds,\n",
        "    epochs=EPOCHS,\n",
        "    callbacks=tf.keras.callbacks.EarlyStopping(verbose=1, patience=2),\n",
        ")"
      ]
    },
    {
      "cell_type": "markdown",
      "metadata": {
        "id": "gjpCDeQ4mUfS"
      },
      "source": [
        "\n",
        "\n",
        "```\n",
        "# This is formatted as code\n",
        "```\n",
        "\n",
        "Let's plot the training and validation loss curves to check how your model has improved during training:"
      ]
    },
    {
      "cell_type": "code",
      "execution_count": null,
      "metadata": {
        "id": "eYK69Ou_nrDH"
      },
      "outputs": [],
      "source": [
        "history.validation_data"
      ]
    },
    {
      "cell_type": "code",
      "execution_count": null,
      "metadata": {
        "id": "jtfz6Shaoxct",
        "colab": {
          "base_uri": "https://localhost:8080/"
        },
        "outputId": "812be2f0-34a0-4533-f061-92853898171e"
      },
      "outputs": [
        {
          "output_type": "execute_result",
          "data": {
            "text/plain": [
              "<module 'tensorboard.summary._tf.summary' from '/usr/local/lib/python3.10/dist-packages/tensorboard/summary/_tf/summary/__init__.py'>"
            ]
          },
          "metadata": {},
          "execution_count": 78
        }
      ],
      "source": [
        "tf.summary"
      ]
    },
    {
      "cell_type": "code",
      "execution_count": null,
      "metadata": {
        "id": "nzhipg3Gu2AY",
        "colab": {
          "base_uri": "https://localhost:8080/"
        },
        "outputId": "7499241a-5706-403c-de44-0c8c853c3b84"
      },
      "outputs": [
        {
          "output_type": "execute_result",
          "data": {
            "text/plain": [
              "Text(0, 0.5, 'Accuracy [%]')"
            ]
          },
          "metadata": {},
          "execution_count": 79
        }
      ],
      "source": [
        "metrics = history.history\n",
        "plt.figure(figsize=(16,6))\n",
        "plt.subplot(1,2,1)\n",
        "plt.plot(history.epoch, metrics['loss'], metrics['val_loss'])\n",
        "plt.legend(['loss', 'val_loss'])\n",
        "plt.ylim([0, max(plt.ylim())])\n",
        "plt.xlabel('Epoch')\n",
        "plt.ylabel('Loss [CrossEntropy]')\n",
        "\n",
        "plt.subplot(1,2,2)\n",
        "plt.plot(history.epoch, 100*np.array(metrics['accuracy']), 100*np.array(metrics['val_accuracy']))\n",
        "plt.legend(['accuracy', 'val_accuracy'])\n",
        "plt.ylim([0, 100])\n",
        "plt.xlabel('Epoch')\n",
        "plt.ylabel('Accuracy [%]')"
      ]
    },
    {
      "cell_type": "markdown",
      "metadata": {
        "id": "5ZTt3kO3mfm4"
      },
      "source": [
        "## Evaluate the model performance\n",
        "\n",
        "Run the model on the test set and check the model's performance:"
      ]
    },
    {
      "cell_type": "code",
      "execution_count": null,
      "metadata": {
        "id": "FapuRT_SsWGQ",
        "colab": {
          "base_uri": "https://localhost:8080/"
        },
        "outputId": "15d0f831-630b-49eb-8217-d63a4258d015"
      },
      "outputs": [
        {
          "output_type": "stream",
          "name": "stdout",
          "text": [
            "13/13 [==============================] - 2s 119ms/step - loss: 0.4440 - accuracy: 0.8654\n"
          ]
        },
        {
          "output_type": "execute_result",
          "data": {
            "text/plain": [
              "{'loss': 0.44397079944610596, 'accuracy': 0.8653846383094788}"
            ]
          },
          "metadata": {},
          "execution_count": 80
        }
      ],
      "source": [
        "model.evaluate(test_spectrogram_ds, return_dict=True)"
      ]
    },
    {
      "cell_type": "markdown",
      "metadata": {
        "id": "en9Znt1NOabH"
      },
      "source": [
        "### Display a confusion matrix\n",
        "\n",
        "Use a [confusion matrix](https://developers.google.com/machine-learning/glossary#confusion-matrix) to check how well the model did classifying each of the commands in the test set:\n"
      ]
    },
    {
      "cell_type": "code",
      "execution_count": null,
      "metadata": {
        "id": "5Y6vmWWQuuT1",
        "colab": {
          "base_uri": "https://localhost:8080/"
        },
        "outputId": "c6547726-de87-433d-b7a4-de1cd36848b4"
      },
      "outputs": [
        {
          "output_type": "stream",
          "name": "stdout",
          "text": [
            "13/13 [==============================] - 1s 52ms/step\n"
          ]
        }
      ],
      "source": [
        "y_pred = model.predict(test_spectrogram_ds)"
      ]
    },
    {
      "cell_type": "code",
      "execution_count": null,
      "metadata": {
        "id": "d6F0il82u7lW"
      },
      "outputs": [],
      "source": [
        "y_pred = tf.argmax(y_pred, axis=1)"
      ]
    },
    {
      "cell_type": "code",
      "execution_count": null,
      "metadata": {
        "id": "vHSNoBYLvX81"
      },
      "outputs": [],
      "source": [
        "y_true = tf.concat(list(test_spectrogram_ds.map(lambda s,lab: lab)), axis=0)"
      ]
    },
    {
      "cell_type": "code",
      "execution_count": null,
      "metadata": {
        "id": "LvoSAOiXU3lL"
      },
      "outputs": [],
      "source": [
        "confusion_mtx = tf.math.confusion_matrix(y_true, y_pred)\n",
        "plt.figure(figsize=(10, 8))\n",
        "sns.heatmap(confusion_mtx,\n",
        "            xticklabels=label_names,\n",
        "            yticklabels=label_names,\n",
        "            annot=True, fmt='g')\n",
        "plt.xlabel('Prediction')\n",
        "plt.ylabel('Label')\n",
        "plt.show()"
      ]
    },
    {
      "cell_type": "markdown",
      "metadata": {
        "id": "mQGi_mzPcLvl"
      },
      "source": [
        "## Run inference on an audio file\n",
        "\n",
        "Finally, verify the model's prediction output using an input audio file of someone saying \"no\". How well does your model perform?"
      ]
    },
    {
      "cell_type": "code",
      "execution_count": null,
      "metadata": {
        "id": "zRxauKMdhofU",
        "colab": {
          "base_uri": "https://localhost:8080/",
          "height": 76
        },
        "outputId": "bb362489-f8b0-4dd6-8d46-6df25cbbd778"
      },
      "outputs": [
        {
          "output_type": "display_data",
          "data": {
            "text/plain": [
              "<IPython.lib.display.Audio object>"
            ],
            "text/html": [
              "\n",
              "                <audio  controls=\"controls\" >\n",
              "                    <source src=\"data:audio/wav;base64,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\" type=\"audio/wav\" />\n",
              "                    Your browser does not support the audio element.\n",
              "                </audio>\n",
              "              "
            ]
          },
          "metadata": {}
        }
      ],
      "source": [
        "x = data_dir/'/content/data/mini_speech_commands/right/0132a06d_nohash_3.wav'\n",
        "x = tf.io.read_file(str(x))\n",
        "x, sample_rate = tf.audio.decode_wav(x, desired_channels=1, desired_samples=16000,)\n",
        "x = tf.squeeze(x, axis=-1)\n",
        "waveform = x\n",
        "x = get_spectrogram(x)\n",
        "x = x[tf.newaxis,...]\n",
        "\n",
        "prediction = model(x)\n",
        "x_labels = ['down', 'go', 'left', 'no', 'right', 'stop', 'up', 'yes']\n",
        "plt.bar(x_labels, tf.nn.softmax(prediction[0]))\n",
        "plt.title('Prediction')\n",
        "plt.show()\n",
        "\n",
        "display.display(display.Audio(waveform, rate=16000))"
      ]
    },
    {
      "cell_type": "markdown",
      "metadata": {
        "id": "VgWICqdqQNaQ"
      },
      "source": [
        "As the output suggests, your model should have recognized the audio command as \"no\"."
      ]
    },
    {
      "cell_type": "markdown",
      "metadata": {
        "id": "h1icqlM3ISW0"
      },
      "source": [
        "## Export the model with preprocessing"
      ]
    },
    {
      "cell_type": "markdown",
      "metadata": {
        "id": "r7HX-MjgIbji"
      },
      "source": [
        "The model's not very easy to use if you have to apply those preprocessing steps before passing data to the model for inference. So build an end-to-end version:"
      ]
    },
    {
      "cell_type": "code",
      "execution_count": null,
      "metadata": {
        "id": "2lIeXdWjIbDE"
      },
      "outputs": [],
      "source": [
        "class ExportModel(tf.Module):\n",
        "  def __init__(self, model):\n",
        "    self.model = model\n",
        "\n",
        "    # Accept either a string-filename or a batch of waveforms.\n",
        "    # YOu could add additional signatures for a single wave, or a ragged-batch.\n",
        "    self.__call__.get_concrete_function(\n",
        "        x=tf.TensorSpec(shape=(), dtype=tf.string))\n",
        "    self.__call__.get_concrete_function(\n",
        "       x=tf.TensorSpec(shape=[None, 16000], dtype=tf.float32))\n",
        "\n",
        "\n",
        "  @tf.function\n",
        "  def __call__(self, x):\n",
        "    # If they pass a string, load the file and decode it.\n",
        "    if x.dtype == tf.string:\n",
        "      x = tf.io.read_file(x)\n",
        "      x, _ = tf.audio.decode_wav(x, desired_channels=1, desired_samples=16000,)\n",
        "      x = tf.squeeze(x, axis=-1)\n",
        "      x = x[tf.newaxis, :]\n",
        "\n",
        "    x = get_spectrogram(x)\n",
        "    result = self.model(x, training=False)\n",
        "\n",
        "    class_ids = tf.argmax(result, axis=-1)\n",
        "    class_names = tf.gather(label_names, class_ids)\n",
        "    return {'predictions':result,\n",
        "            'class_ids': class_ids,\n",
        "            'class_names': class_names}"
      ]
    },
    {
      "cell_type": "markdown",
      "metadata": {
        "id": "gtZBmUiB9HGY"
      },
      "source": [
        "Test run the \"export\" model:"
      ]
    },
    {
      "cell_type": "code",
      "execution_count": null,
      "metadata": {
        "id": "Z1_8TYaCIRue",
        "colab": {
          "base_uri": "https://localhost:8080/"
        },
        "outputId": "2336cce0-02f5-4ba9-c927-ba82a1f10950"
      },
      "outputs": [
        {
          "output_type": "execute_result",
          "data": {
            "text/plain": [
              "{'predictions': <tf.Tensor: shape=(1, 8), dtype=float32, numpy=\n",
              " array([[ 0.6229373,  4.074958 , -3.0240145,  7.498655 , -6.612483 ,\n",
              "         -3.2115777, -5.1249347, -1.8894498]], dtype=float32)>,\n",
              " 'class_ids': <tf.Tensor: shape=(1,), dtype=int64, numpy=array([3])>,\n",
              " 'class_names': <tf.Tensor: shape=(1,), dtype=string, numpy=array([b'no'], dtype=object)>}"
            ]
          },
          "metadata": {},
          "execution_count": 87
        }
      ],
      "source": [
        "export = ExportModel(model)\n",
        "export(tf.constant(str(data_dir/'no/01bb6a2a_nohash_0.wav')))"
      ]
    },
    {
      "cell_type": "code",
      "execution_count": null,
      "metadata": {
        "id": "bjzR9vDfgpkv",
        "colab": {
          "base_uri": "https://localhost:8080/"
        },
        "outputId": "cc33b585-a13b-4f3c-e4a6-a278b18394d4"
      },
      "outputs": [
        {
          "output_type": "execute_result",
          "data": {
            "text/plain": [
              "PosixPath('data/mini_speech_commands')"
            ]
          },
          "metadata": {},
          "execution_count": 88
        }
      ],
      "source": [
        "data_dir"
      ]
    },
    {
      "cell_type": "markdown",
      "metadata": {
        "id": "1J6Iuz829Cxo"
      },
      "source": [
        "Save and reload the model, the reloaded model gives identical output:"
      ]
    },
    {
      "cell_type": "code",
      "execution_count": null,
      "metadata": {
        "id": "wTAg4vsn3oEb",
        "colab": {
          "base_uri": "https://localhost:8080/"
        },
        "outputId": "6e9a3e31-9eba-49c8-d3d5-2241a8c0dfed"
      },
      "outputs": [
        {
          "output_type": "execute_result",
          "data": {
            "text/plain": [
              "{'class_ids': <tf.Tensor: shape=(1,), dtype=int64, numpy=array([4])>,\n",
              " 'class_names': <tf.Tensor: shape=(1,), dtype=string, numpy=array([b'right'], dtype=object)>,\n",
              " 'predictions': <tf.Tensor: shape=(1, 8), dtype=float32, numpy=\n",
              " array([[ -9.226386, -11.037961,   8.095892, -16.41436 ,  31.192978,\n",
              "          -5.832442, -14.107847, -16.50424 ]], dtype=float32)>}"
            ]
          },
          "metadata": {},
          "execution_count": 89
        }
      ],
      "source": [
        "tf.saved_model.save(export, \"saved\")\n",
        "imported = tf.saved_model.load(\"saved\")\n",
        "imported(waveform[tf.newaxis, :])"
      ]
    },
    {
      "cell_type": "code",
      "execution_count": null,
      "metadata": {
        "id": "CAFzbqwvnF_K"
      },
      "outputs": [],
      "source": [
        "model.save('voice_recognition_model')"
      ]
    },
    {
      "cell_type": "code",
      "execution_count": null,
      "metadata": {
        "id": "_q9glXlr0iZj"
      },
      "outputs": [],
      "source": []
    },
    {
      "cell_type": "code",
      "execution_count": null,
      "metadata": {
        "colab": {
          "base_uri": "https://localhost:8080/",
          "height": 356
        },
        "id": "RBukPKrD2GhS",
        "outputId": "49756ed9-e016-4925-d215-d41cba9b6552"
      },
      "outputs": [
        {
          "output_type": "stream",
          "name": "stdout",
          "text": [
            "Voice Recognition CLI\n"
          ]
        },
        {
          "output_type": "error",
          "ename": "KeyboardInterrupt",
          "evalue": "Interrupted by user",
          "traceback": [
            "\u001b[0;31m---------------------------------------------------------------------------\u001b[0m",
            "\u001b[0;31mKeyboardInterrupt\u001b[0m                         Traceback (most recent call last)",
            "\u001b[0;32m<ipython-input-91-1f3705f5430b>\u001b[0m in \u001b[0;36m<cell line: 45>\u001b[0;34m()\u001b[0m\n\u001b[1;32m     44\u001b[0m \u001b[0;34m\u001b[0m\u001b[0m\n\u001b[1;32m     45\u001b[0m \u001b[0;32mif\u001b[0m \u001b[0m__name__\u001b[0m \u001b[0;34m==\u001b[0m \u001b[0;34m\"__main__\"\u001b[0m\u001b[0;34m:\u001b[0m\u001b[0;34m\u001b[0m\u001b[0;34m\u001b[0m\u001b[0m\n\u001b[0;32m---> 46\u001b[0;31m     \u001b[0mmain\u001b[0m\u001b[0;34m(\u001b[0m\u001b[0;34m)\u001b[0m\u001b[0;34m\u001b[0m\u001b[0;34m\u001b[0m\u001b[0m\n\u001b[0m",
            "\u001b[0;32m<ipython-input-91-1f3705f5430b>\u001b[0m in \u001b[0;36mmain\u001b[0;34m()\u001b[0m\n\u001b[1;32m     37\u001b[0m     \u001b[0mprint\u001b[0m\u001b[0;34m(\u001b[0m\u001b[0;34m\"Voice Recognition CLI\"\u001b[0m\u001b[0;34m)\u001b[0m\u001b[0;34m\u001b[0m\u001b[0;34m\u001b[0m\u001b[0m\n\u001b[1;32m     38\u001b[0m     \u001b[0;32mwhile\u001b[0m \u001b[0;32mTrue\u001b[0m\u001b[0;34m:\u001b[0m\u001b[0;34m\u001b[0m\u001b[0;34m\u001b[0m\u001b[0m\n\u001b[0;32m---> 39\u001b[0;31m         \u001b[0maudio_path\u001b[0m \u001b[0;34m=\u001b[0m \u001b[0minput\u001b[0m\u001b[0;34m(\u001b[0m\u001b[0;34m\"Enter the path of the audio file (or 'exit' to quit): \"\u001b[0m\u001b[0;34m)\u001b[0m\u001b[0;34m\u001b[0m\u001b[0;34m\u001b[0m\u001b[0m\n\u001b[0m\u001b[1;32m     40\u001b[0m         \u001b[0;32mif\u001b[0m \u001b[0maudio_path\u001b[0m\u001b[0;34m.\u001b[0m\u001b[0mlower\u001b[0m\u001b[0;34m(\u001b[0m\u001b[0;34m)\u001b[0m \u001b[0;34m==\u001b[0m \u001b[0;34m'exit'\u001b[0m\u001b[0;34m:\u001b[0m\u001b[0;34m\u001b[0m\u001b[0;34m\u001b[0m\u001b[0m\n\u001b[1;32m     41\u001b[0m             \u001b[0;32mbreak\u001b[0m\u001b[0;34m\u001b[0m\u001b[0;34m\u001b[0m\u001b[0m\n",
            "\u001b[0;32m/usr/local/lib/python3.10/dist-packages/ipykernel/kernelbase.py\u001b[0m in \u001b[0;36mraw_input\u001b[0;34m(self, prompt)\u001b[0m\n\u001b[1;32m    849\u001b[0m                 \u001b[0;34m\"raw_input was called, but this frontend does not support input requests.\"\u001b[0m\u001b[0;34m\u001b[0m\u001b[0;34m\u001b[0m\u001b[0m\n\u001b[1;32m    850\u001b[0m             )\n\u001b[0;32m--> 851\u001b[0;31m         return self._input_request(str(prompt),\n\u001b[0m\u001b[1;32m    852\u001b[0m             \u001b[0mself\u001b[0m\u001b[0;34m.\u001b[0m\u001b[0m_parent_ident\u001b[0m\u001b[0;34m,\u001b[0m\u001b[0;34m\u001b[0m\u001b[0;34m\u001b[0m\u001b[0m\n\u001b[1;32m    853\u001b[0m             \u001b[0mself\u001b[0m\u001b[0;34m.\u001b[0m\u001b[0m_parent_header\u001b[0m\u001b[0;34m,\u001b[0m\u001b[0;34m\u001b[0m\u001b[0;34m\u001b[0m\u001b[0m\n",
            "\u001b[0;32m/usr/local/lib/python3.10/dist-packages/ipykernel/kernelbase.py\u001b[0m in \u001b[0;36m_input_request\u001b[0;34m(self, prompt, ident, parent, password)\u001b[0m\n\u001b[1;32m    893\u001b[0m             \u001b[0;32mexcept\u001b[0m \u001b[0mKeyboardInterrupt\u001b[0m\u001b[0;34m:\u001b[0m\u001b[0;34m\u001b[0m\u001b[0;34m\u001b[0m\u001b[0m\n\u001b[1;32m    894\u001b[0m                 \u001b[0;31m# re-raise KeyboardInterrupt, to truncate traceback\u001b[0m\u001b[0;34m\u001b[0m\u001b[0;34m\u001b[0m\u001b[0m\n\u001b[0;32m--> 895\u001b[0;31m                 \u001b[0;32mraise\u001b[0m \u001b[0mKeyboardInterrupt\u001b[0m\u001b[0;34m(\u001b[0m\u001b[0;34m\"Interrupted by user\"\u001b[0m\u001b[0;34m)\u001b[0m \u001b[0;32mfrom\u001b[0m \u001b[0;32mNone\u001b[0m\u001b[0;34m\u001b[0m\u001b[0;34m\u001b[0m\u001b[0m\n\u001b[0m\u001b[1;32m    896\u001b[0m             \u001b[0;32mexcept\u001b[0m \u001b[0mException\u001b[0m \u001b[0;32mas\u001b[0m \u001b[0me\u001b[0m\u001b[0;34m:\u001b[0m\u001b[0;34m\u001b[0m\u001b[0;34m\u001b[0m\u001b[0m\n\u001b[1;32m    897\u001b[0m                 \u001b[0mself\u001b[0m\u001b[0;34m.\u001b[0m\u001b[0mlog\u001b[0m\u001b[0;34m.\u001b[0m\u001b[0mwarning\u001b[0m\u001b[0;34m(\u001b[0m\u001b[0;34m\"Invalid Message:\"\u001b[0m\u001b[0;34m,\u001b[0m \u001b[0mexc_info\u001b[0m\u001b[0;34m=\u001b[0m\u001b[0;32mTrue\u001b[0m\u001b[0;34m)\u001b[0m\u001b[0;34m\u001b[0m\u001b[0;34m\u001b[0m\u001b[0m\n",
            "\u001b[0;31mKeyboardInterrupt\u001b[0m: Interrupted by user"
          ]
        }
      ],
      "source": [
        "import tensorflow as tf\n",
        "import numpy as np\n",
        "\n",
        "# Load your trained model\n",
        "model = tf.keras.models.load_model('voice_recognition_model')\n",
        "\n",
        "# Function to preprocess the input audio for inference\n",
        "def preprocess_audio(audio_path):\n",
        "    try:\n",
        "        waveform, _ = tf.audio.decode_wav(tf.io.read_file(audio_path),\n",
        "                                           desired_channels=1, desired_samples=16000)\n",
        "        waveform = tf.squeeze(waveform, axis=-1)\n",
        "        spectrogram = get_spectrogram(waveform)\n",
        "        spectrogram = spectrogram[tf.newaxis, ...]\n",
        "        return spectrogram\n",
        "    except Exception as e:\n",
        "        print(f\"Error preprocessing audio: {e}\")\n",
        "        return None\n",
        "\n",
        "# Function to make predictions\n",
        "def predict(audio_path):\n",
        "    try:\n",
        "        spectrogram = preprocess_audio(audio_path)\n",
        "        if spectrogram is not None:\n",
        "            prediction = model.predict(spectrogram)\n",
        "            class_id = np.argmax(prediction)\n",
        "            class_name = label_names[class_id]\n",
        "            return f\"Predicted: {class_name}\"\n",
        "        else:\n",
        "            return \"Error processing audio.\"\n",
        "    except Exception as e:\n",
        "        print(f\"Error predicting: {e}\")\n",
        "        return \"Error predicting.\"\n",
        "\n",
        "# Command-line interface\n",
        "def main():\n",
        "    print(\"Voice Recognition CLI\")\n",
        "    while True:\n",
        "        audio_path = input(\"Enter the path of the audio file (or 'exit' to quit): \")\n",
        "        if audio_path.lower() == 'exit':\n",
        "            break\n",
        "        result = predict(audio_path)\n",
        "        print(result)\n",
        "\n",
        "if __name__ == \"__main__\":\n",
        "    main()\n"
      ]
    },
    {
      "cell_type": "code",
      "execution_count": null,
      "metadata": {
        "id": "9itDbmqv8974"
      },
      "outputs": [],
      "source": []
    },
    {
      "cell_type": "markdown",
      "metadata": {
        "id": "WBt_aa6EnF_K"
      },
      "source": [
        "# For realtime Voice recognition"
      ]
    },
    {
      "cell_type": "code",
      "execution_count": null,
      "metadata": {
        "id": "Gm69NT6xnF_K",
        "colab": {
          "base_uri": "https://localhost:8080/"
        },
        "outputId": "9df621e8-c150-46f6-e3ef-6619602315b0"
      },
      "outputs": [
        {
          "output_type": "stream",
          "name": "stdout",
          "text": [
            "Requirement already satisfied: gradio in /usr/local/lib/python3.10/dist-packages (4.19.1)\n",
            "Requirement already satisfied: aiofiles<24.0,>=22.0 in /usr/local/lib/python3.10/dist-packages (from gradio) (23.2.1)\n",
            "Requirement already satisfied: altair<6.0,>=4.2.0 in /usr/local/lib/python3.10/dist-packages (from gradio) (4.2.2)\n",
            "Requirement already satisfied: fastapi in /usr/local/lib/python3.10/dist-packages (from gradio) (0.109.2)\n",
            "Requirement already satisfied: ffmpy in /usr/local/lib/python3.10/dist-packages (from gradio) (0.3.2)\n",
            "Requirement already satisfied: gradio-client==0.10.0 in /usr/local/lib/python3.10/dist-packages (from gradio) (0.10.0)\n",
            "Requirement already satisfied: httpx in /usr/local/lib/python3.10/dist-packages (from gradio) (0.26.0)\n",
            "Requirement already satisfied: huggingface-hub>=0.19.3 in /usr/local/lib/python3.10/dist-packages (from gradio) (0.20.3)\n",
            "Requirement already satisfied: importlib-resources<7.0,>=1.3 in /usr/local/lib/python3.10/dist-packages (from gradio) (6.1.1)\n",
            "Requirement already satisfied: jinja2<4.0 in /usr/local/lib/python3.10/dist-packages (from gradio) (3.1.3)\n",
            "Requirement already satisfied: markupsafe~=2.0 in /usr/local/lib/python3.10/dist-packages (from gradio) (2.1.5)\n",
            "Requirement already satisfied: matplotlib~=3.0 in /usr/local/lib/python3.10/dist-packages (from gradio) (3.7.1)\n",
            "Requirement already satisfied: numpy~=1.0 in /usr/local/lib/python3.10/dist-packages (from gradio) (1.25.2)\n",
            "Requirement already satisfied: orjson~=3.0 in /usr/local/lib/python3.10/dist-packages (from gradio) (3.9.14)\n",
            "Requirement already satisfied: packaging in /usr/local/lib/python3.10/dist-packages (from gradio) (23.2)\n",
            "Requirement already satisfied: pandas<3.0,>=1.0 in /usr/local/lib/python3.10/dist-packages (from gradio) (1.5.3)\n",
            "Requirement already satisfied: pillow<11.0,>=8.0 in /usr/local/lib/python3.10/dist-packages (from gradio) (9.4.0)\n",
            "Requirement already satisfied: pydantic>=2.0 in /usr/local/lib/python3.10/dist-packages (from gradio) (2.6.1)\n",
            "Requirement already satisfied: pydub in /usr/local/lib/python3.10/dist-packages (from gradio) (0.25.1)\n",
            "Requirement already satisfied: python-multipart>=0.0.9 in /usr/local/lib/python3.10/dist-packages (from gradio) (0.0.9)\n",
            "Requirement already satisfied: pyyaml<7.0,>=5.0 in /usr/local/lib/python3.10/dist-packages (from gradio) (6.0.1)\n",
            "Requirement already satisfied: ruff>=0.1.7 in /usr/local/lib/python3.10/dist-packages (from gradio) (0.2.2)\n",
            "Requirement already satisfied: semantic-version~=2.0 in /usr/local/lib/python3.10/dist-packages (from gradio) (2.10.0)\n",
            "Requirement already satisfied: tomlkit==0.12.0 in /usr/local/lib/python3.10/dist-packages (from gradio) (0.12.0)\n",
            "Requirement already satisfied: typer[all]<1.0,>=0.9 in /usr/local/lib/python3.10/dist-packages (from gradio) (0.9.0)\n",
            "Requirement already satisfied: typing-extensions~=4.0 in /usr/local/lib/python3.10/dist-packages (from gradio) (4.9.0)\n",
            "Requirement already satisfied: uvicorn>=0.14.0 in /usr/local/lib/python3.10/dist-packages (from gradio) (0.27.1)\n",
            "Requirement already satisfied: fsspec in /usr/local/lib/python3.10/dist-packages (from gradio-client==0.10.0->gradio) (2023.6.0)\n",
            "Requirement already satisfied: websockets<12.0,>=10.0 in /usr/local/lib/python3.10/dist-packages (from gradio-client==0.10.0->gradio) (11.0.3)\n",
            "Requirement already satisfied: entrypoints in /usr/local/lib/python3.10/dist-packages (from altair<6.0,>=4.2.0->gradio) (0.4)\n",
            "Requirement already satisfied: jsonschema>=3.0 in /usr/local/lib/python3.10/dist-packages (from altair<6.0,>=4.2.0->gradio) (4.19.2)\n",
            "Requirement already satisfied: toolz in /usr/local/lib/python3.10/dist-packages (from altair<6.0,>=4.2.0->gradio) (0.12.1)\n",
            "Requirement already satisfied: filelock in /usr/local/lib/python3.10/dist-packages (from huggingface-hub>=0.19.3->gradio) (3.13.1)\n",
            "Requirement already satisfied: requests in /usr/local/lib/python3.10/dist-packages (from huggingface-hub>=0.19.3->gradio) (2.31.0)\n",
            "Requirement already satisfied: tqdm>=4.42.1 in /usr/local/lib/python3.10/dist-packages (from huggingface-hub>=0.19.3->gradio) (4.66.2)\n",
            "Requirement already satisfied: contourpy>=1.0.1 in /usr/local/lib/python3.10/dist-packages (from matplotlib~=3.0->gradio) (1.2.0)\n",
            "Requirement already satisfied: cycler>=0.10 in /usr/local/lib/python3.10/dist-packages (from matplotlib~=3.0->gradio) (0.12.1)\n",
            "Requirement already satisfied: fonttools>=4.22.0 in /usr/local/lib/python3.10/dist-packages (from matplotlib~=3.0->gradio) (4.48.1)\n",
            "Requirement already satisfied: kiwisolver>=1.0.1 in /usr/local/lib/python3.10/dist-packages (from matplotlib~=3.0->gradio) (1.4.5)\n",
            "Requirement already satisfied: pyparsing>=2.3.1 in /usr/local/lib/python3.10/dist-packages (from matplotlib~=3.0->gradio) (3.1.1)\n",
            "Requirement already satisfied: python-dateutil>=2.7 in /usr/local/lib/python3.10/dist-packages (from matplotlib~=3.0->gradio) (2.8.2)\n",
            "Requirement already satisfied: pytz>=2020.1 in /usr/local/lib/python3.10/dist-packages (from pandas<3.0,>=1.0->gradio) (2023.4)\n",
            "Requirement already satisfied: annotated-types>=0.4.0 in /usr/local/lib/python3.10/dist-packages (from pydantic>=2.0->gradio) (0.6.0)\n",
            "Requirement already satisfied: pydantic-core==2.16.2 in /usr/local/lib/python3.10/dist-packages (from pydantic>=2.0->gradio) (2.16.2)\n",
            "Requirement already satisfied: click<9.0.0,>=7.1.1 in /usr/local/lib/python3.10/dist-packages (from typer[all]<1.0,>=0.9->gradio) (8.1.7)\n",
            "Requirement already satisfied: colorama<0.5.0,>=0.4.3 in /usr/local/lib/python3.10/dist-packages (from typer[all]<1.0,>=0.9->gradio) (0.4.6)\n",
            "Requirement already satisfied: shellingham<2.0.0,>=1.3.0 in /usr/local/lib/python3.10/dist-packages (from typer[all]<1.0,>=0.9->gradio) (1.5.4)\n",
            "Requirement already satisfied: rich<14.0.0,>=10.11.0 in /usr/local/lib/python3.10/dist-packages (from typer[all]<1.0,>=0.9->gradio) (13.7.0)\n",
            "Requirement already satisfied: h11>=0.8 in /usr/local/lib/python3.10/dist-packages (from uvicorn>=0.14.0->gradio) (0.14.0)\n",
            "Requirement already satisfied: starlette<0.37.0,>=0.36.3 in /usr/local/lib/python3.10/dist-packages (from fastapi->gradio) (0.36.3)\n",
            "Requirement already satisfied: anyio in /usr/local/lib/python3.10/dist-packages (from httpx->gradio) (3.7.1)\n",
            "Requirement already satisfied: certifi in /usr/local/lib/python3.10/dist-packages (from httpx->gradio) (2024.2.2)\n",
            "Requirement already satisfied: httpcore==1.* in /usr/local/lib/python3.10/dist-packages (from httpx->gradio) (1.0.3)\n",
            "Requirement already satisfied: idna in /usr/local/lib/python3.10/dist-packages (from httpx->gradio) (3.6)\n",
            "Requirement already satisfied: sniffio in /usr/local/lib/python3.10/dist-packages (from httpx->gradio) (1.3.0)\n",
            "Requirement already satisfied: attrs>=22.2.0 in /usr/local/lib/python3.10/dist-packages (from jsonschema>=3.0->altair<6.0,>=4.2.0->gradio) (23.2.0)\n",
            "Requirement already satisfied: jsonschema-specifications>=2023.03.6 in /usr/local/lib/python3.10/dist-packages (from jsonschema>=3.0->altair<6.0,>=4.2.0->gradio) (2023.12.1)\n",
            "Requirement already satisfied: referencing>=0.28.4 in /usr/local/lib/python3.10/dist-packages (from jsonschema>=3.0->altair<6.0,>=4.2.0->gradio) (0.33.0)\n",
            "Requirement already satisfied: rpds-py>=0.7.1 in /usr/local/lib/python3.10/dist-packages (from jsonschema>=3.0->altair<6.0,>=4.2.0->gradio) (0.17.1)\n",
            "Requirement already satisfied: six>=1.5 in /usr/local/lib/python3.10/dist-packages (from python-dateutil>=2.7->matplotlib~=3.0->gradio) (1.16.0)\n",
            "Requirement already satisfied: markdown-it-py>=2.2.0 in /usr/local/lib/python3.10/dist-packages (from rich<14.0.0,>=10.11.0->typer[all]<1.0,>=0.9->gradio) (3.0.0)\n",
            "Requirement already satisfied: pygments<3.0.0,>=2.13.0 in /usr/local/lib/python3.10/dist-packages (from rich<14.0.0,>=10.11.0->typer[all]<1.0,>=0.9->gradio) (2.16.1)\n",
            "Requirement already satisfied: exceptiongroup in /usr/local/lib/python3.10/dist-packages (from anyio->httpx->gradio) (1.2.0)\n",
            "Requirement already satisfied: charset-normalizer<4,>=2 in /usr/local/lib/python3.10/dist-packages (from requests->huggingface-hub>=0.19.3->gradio) (3.3.2)\n",
            "Requirement already satisfied: urllib3<3,>=1.21.1 in /usr/local/lib/python3.10/dist-packages (from requests->huggingface-hub>=0.19.3->gradio) (2.0.7)\n",
            "Requirement already satisfied: mdurl~=0.1 in /usr/local/lib/python3.10/dist-packages (from markdown-it-py>=2.2.0->rich<14.0.0,>=10.11.0->typer[all]<1.0,>=0.9->gradio) (0.1.2)\n"
          ]
        }
      ],
      "source": [
        "!pip install gradio\n",
        "import gradio as gr\n",
        "import time"
      ]
    },
    {
      "cell_type": "code",
      "source": [],
      "metadata": {
        "id": "-mTDNdZzAiW7"
      },
      "execution_count": null,
      "outputs": []
    },
    {
      "cell_type": "code",
      "execution_count": null,
      "metadata": {
        "id": "cTX0YuJknF_L"
      },
      "outputs": [],
      "source": [
        "def transcribe(audio):\n",
        "\n",
        "    #time.sleep(3)\n",
        "    # load audio and pad/trim it to fit 30 seconds\n",
        "    audio = whisper.load_audio(audio)\n",
        "    audio = whisper.pad_or_trim(audio)\n",
        "\n",
        "    # make log-Mel spectrogram and move to the same device as the model\n",
        "    mel = whisper.log_mel_spectrogram(audio).to(model.device)\n",
        "\n",
        "    # detect the spoken language\n",
        "    _, probs = model.detect_language(mel)\n",
        "    print(f\"Detected language: {max(probs, key=probs.get)}\")\n",
        "\n",
        "    # decode the audio\n",
        "    options = whisper.DecodingOptions()\n",
        "    result = whisper.decode(model, mel, options)\n",
        "    return result.text"
      ]
    },
    {
      "cell_type": "code",
      "execution_count": null,
      "metadata": {
        "id": "bWC7GTyWnF_L",
        "colab": {
          "base_uri": "https://localhost:8080/",
          "height": 651
        },
        "outputId": "70a6ad0d-873e-45db-beb5-01a4ce3b9d86"
      },
      "outputs": [
        {
          "output_type": "stream",
          "name": "stderr",
          "text": [
            "Special tokens have been added in the vocabulary, make sure the associated word embeddings are fine-tuned or trained.\n"
          ]
        },
        {
          "output_type": "stream",
          "name": "stdout",
          "text": [
            "Setting queue=True in a Colab notebook requires sharing enabled. Setting `share=True` (you can turn this off by setting `share=False` in `launch()` explicitly).\n",
            "\n",
            "Colab notebook detected. To show errors in colab notebook, set debug=True in launch()\n",
            "Running on public URL: https://6671a47c3329a374e1.gradio.live\n",
            "\n",
            "This share link expires in 72 hours. For free permanent hosting and GPU upgrades, run `gradio deploy` from Terminal to deploy to Spaces (https://huggingface.co/spaces)\n"
          ]
        },
        {
          "output_type": "display_data",
          "data": {
            "text/plain": [
              "<IPython.core.display.HTML object>"
            ],
            "text/html": [
              "<div><iframe src=\"https://6671a47c3329a374e1.gradio.live\" width=\"100%\" height=\"500\" allow=\"autoplay; camera; microphone; clipboard-read; clipboard-write;\" frameborder=\"0\" allowfullscreen></iframe></div>"
            ]
          },
          "metadata": {}
        },
        {
          "output_type": "execute_result",
          "data": {
            "text/plain": []
          },
          "metadata": {},
          "execution_count": 114
        }
      ],
      "source": [
        "import gradio as gr\n",
        "from transformers import pipeline\n",
        "import numpy as np\n",
        "\n",
        "transcriber = pipeline(\"automatic-speech-recognition\", model=\"openai/whisper-base.en\")\n",
        "\n",
        "def transcribe(audio):\n",
        "    sr, y = audio\n",
        "    y = y.astype(np.float32)\n",
        "    y /= np.max(np.abs(y))\n",
        "\n",
        "    return transcriber({\"sampling_rate\": sr, \"raw\": y})[\"text\"]\n",
        "\n",
        "\n",
        "demo = gr.Interface(\n",
        "    title='Voice recognition',\n",
        "    fn=transcribe,\n",
        "    inputs=gr.Audio(sources=[\"microphone\"]),\n",
        "    outputs=\"text\",\n",
        ")\n",
        "\n",
        "demo.launch()\n"
      ]
    },
    {
      "cell_type": "code",
      "execution_count": null,
      "metadata": {
        "id": "qkUEV-ARnF_L",
        "scrolled": true
      },
      "outputs": [],
      "source": []
    },
    {
      "cell_type": "code",
      "execution_count": null,
      "metadata": {
        "id": "VcmLiop0nF_L"
      },
      "outputs": [],
      "source": []
    },
    {
      "cell_type": "code",
      "execution_count": null,
      "metadata": {
        "id": "ZeQmFLOW1i3Q"
      },
      "outputs": [],
      "source": []
    },
    {
      "cell_type": "code",
      "execution_count": null,
      "metadata": {
        "id": "v82Iz_-51dUh"
      },
      "outputs": [],
      "source": []
    },
    {
      "cell_type": "code",
      "execution_count": null,
      "metadata": {
        "id": "ZhcGZjf7uLS5"
      },
      "outputs": [],
      "source": []
    },
    {
      "cell_type": "code",
      "execution_count": null,
      "metadata": {
        "id": "yYrV1vkcELTj"
      },
      "outputs": [],
      "source": []
    }
  ],
  "metadata": {
    "accelerator": "GPU",
    "colab": {
      "gpuType": "T4",
      "provenance": []
    },
    "kernelspec": {
      "display_name": "Python 3",
      "name": "python3"
    },
    "language_info": {
      "codemirror_mode": {
        "name": "ipython",
        "version": 3
      },
      "file_extension": ".py",
      "mimetype": "text/x-python",
      "name": "python",
      "nbconvert_exporter": "python",
      "pygments_lexer": "ipython3",
      "version": "3.11.5"
    }
  },
  "nbformat": 4,
  "nbformat_minor": 0
}